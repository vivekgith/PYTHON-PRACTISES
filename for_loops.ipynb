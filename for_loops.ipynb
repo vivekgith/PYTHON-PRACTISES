{
 "cells": [
  {
   "cell_type": "markdown",
   "id": "979a0bb0-f0b8-4c43-be00-a289b6a82394",
   "metadata": {},
   "source": [
    "**print Number from 1 to 10:**"
   ]
  },
  {
   "cell_type": "code",
   "execution_count": 1,
   "id": "1d33f0a1-ff76-4bc8-a0db-1e3fec208649",
   "metadata": {},
   "outputs": [
    {
     "name": "stdout",
     "output_type": "stream",
     "text": [
      "1\n",
      "2\n",
      "3\n",
      "4\n",
      "5\n",
      "6\n",
      "7\n",
      "8\n",
      "9\n",
      "10\n"
     ]
    }
   ],
   "source": [
    "for i in range(1,11):\n",
    "    print(i)"
   ]
  },
  {
   "cell_type": "markdown",
   "id": "30ef800a-6382-4b61-a8b1-a949048226c9",
   "metadata": {},
   "source": [
    "**print 10 to 1 (reverse order):**"
   ]
  },
  {
   "cell_type": "code",
   "execution_count": 2,
   "id": "079ea41b-4b82-4c5c-a32e-834930b49d83",
   "metadata": {},
   "outputs": [
    {
     "name": "stdout",
     "output_type": "stream",
     "text": [
      "10\n",
      "9\n",
      "8\n",
      "7\n",
      "6\n",
      "5\n",
      "4\n",
      "3\n",
      "2\n",
      "1\n"
     ]
    }
   ],
   "source": [
    "for i in range(10,0,-1):\n",
    "    print(i)"
   ]
  },
  {
   "cell_type": "markdown",
   "id": "7316fe06-e0d3-4a45-ba52-bbc2080bdfa4",
   "metadata": {},
   "source": [
    "**print first 10 even number**"
   ]
  },
  {
   "cell_type": "code",
   "execution_count": 3,
   "id": "e404453a-a5ba-4061-b085-35e219f0ba77",
   "metadata": {},
   "outputs": [
    {
     "name": "stdout",
     "output_type": "stream",
     "text": [
      "2\n",
      "4\n",
      "6\n",
      "8\n",
      "10\n",
      "12\n",
      "14\n",
      "16\n",
      "18\n",
      "20\n"
     ]
    }
   ],
   "source": [
    "for i in range(2,21,2):\n",
    "    print(i)"
   ]
  },
  {
   "cell_type": "code",
   "execution_count": 4,
   "id": "07a65dc5-8633-4f0e-93ac-656bba386275",
   "metadata": {},
   "outputs": [
    {
     "name": "stdout",
     "output_type": "stream",
     "text": [
      "1\n",
      "2\n",
      "3\n",
      "4\n",
      "5\n"
     ]
    }
   ],
   "source": [
    "r=range(1,6,1)\n",
    "for i in range(1,6,1):\n",
    "    print(i)"
   ]
  },
  {
   "cell_type": "code",
   "execution_count": 5,
   "id": "3ef095f7-1ac2-44e3-9b55-4494ef7c1336",
   "metadata": {},
   "outputs": [
    {
     "name": "stdout",
     "output_type": "stream",
     "text": [
      "10\n",
      "8\n",
      "6\n",
      "4\n"
     ]
    }
   ],
   "source": [
    "r=range(10,3,-2)\n",
    "for i in range(10,3,-2):\n",
    "    print(i)"
   ]
  },
  {
   "cell_type": "code",
   "execution_count": 6,
   "id": "a284cef6-f426-44c2-bcb9-ae2811269a04",
   "metadata": {},
   "outputs": [
    {
     "name": "stdout",
     "output_type": "stream",
     "text": [
      "2 4\n",
      "5 25\n",
      "8 64\n"
     ]
    }
   ],
   "source": [
    "r=range(2,10,3)\n",
    "for i in range(2,10,3):\n",
    "    print(i,i**2)"
   ]
  },
  {
   "cell_type": "markdown",
   "id": "495d1ee4-433b-4fbe-b1a1-c00b32c6cc22",
   "metadata": {},
   "source": [
    "**Use range() to print numbers from 0 to 5.**"
   ]
  },
  {
   "cell_type": "code",
   "execution_count": 7,
   "id": "ef543a6e-beb8-4a63-b2cc-092bf1cdf043",
   "metadata": {},
   "outputs": [
    {
     "name": "stdout",
     "output_type": "stream",
     "text": [
      "0\n",
      "1\n",
      "2\n",
      "3\n",
      "4\n",
      "5\n"
     ]
    }
   ],
   "source": [
    "for i in range(0,6,1):\n",
    "    print(i)"
   ]
  },
  {
   "cell_type": "markdown",
   "id": "42631197-f102-4af4-bf79-46b944629a59",
   "metadata": {},
   "source": [
    "**Use range() to print numbers from 3 to 8.**\n"
   ]
  },
  {
   "cell_type": "code",
   "execution_count": 8,
   "id": "99a553ca-9bfd-4d2e-998d-3bb04cd07d6d",
   "metadata": {},
   "outputs": [
    {
     "name": "stdout",
     "output_type": "stream",
     "text": [
      "3\n",
      "4\n",
      "5\n",
      "6\n",
      "7\n",
      "8\n"
     ]
    }
   ],
   "source": [
    "for i in range(3,9,1):\n",
    "    print(i)"
   ]
  },
  {
   "cell_type": "markdown",
   "id": "33655b41-9c62-4b4d-a1d8-c48f729441e5",
   "metadata": {},
   "source": [
    "\n",
    "**Use range() to print numbers from 1 to 10.**"
   ]
  },
  {
   "cell_type": "code",
   "execution_count": 9,
   "id": "8af9f61a-8598-442a-a97d-620e9f3756d7",
   "metadata": {},
   "outputs": [
    {
     "name": "stdout",
     "output_type": "stream",
     "text": [
      "1\n",
      "2\n",
      "3\n",
      "4\n",
      "5\n",
      "6\n",
      "7\n",
      "8\n",
      "9\n",
      "10\n"
     ]
    }
   ],
   "source": [
    "for i in range(1,11,1):\n",
    "    print(i)"
   ]
  },
  {
   "cell_type": "markdown",
   "id": "d7a9f267-df09-49a0-8940-d35877ce908e",
   "metadata": {},
   "source": [
    "**Use range() to print numbers from 10 down to 1.**"
   ]
  },
  {
   "cell_type": "code",
   "execution_count": 10,
   "id": "c1c77db6-52d4-4049-a925-94e9ab761a7a",
   "metadata": {},
   "outputs": [
    {
     "name": "stdout",
     "output_type": "stream",
     "text": [
      "10\n",
      "9\n",
      "8\n",
      "7\n",
      "6\n",
      "5\n",
      "4\n",
      "3\n",
      "2\n",
      "1\n"
     ]
    }
   ],
   "source": [
    "for i in range(10,0,-1):\n",
    "    print(i)"
   ]
  },
  {
   "cell_type": "markdown",
   "id": "13da6d0c-ef4f-4799-bee6-1b6a7fdd390d",
   "metadata": {},
   "source": [
    "**Use range() to print numbers from 2 to 20, skipping 2 (even numbers).**"
   ]
  },
  {
   "cell_type": "code",
   "execution_count": 11,
   "id": "e70ef7e6-bf4d-4b01-9521-461bea3d0f22",
   "metadata": {},
   "outputs": [
    {
     "name": "stdout",
     "output_type": "stream",
     "text": [
      "2\n",
      "4\n",
      "6\n",
      "8\n",
      "10\n",
      "12\n",
      "14\n",
      "16\n",
      "18\n",
      "20\n"
     ]
    }
   ],
   "source": [
    "for i in range(2,21,2):\n",
    "    print(i)"
   ]
  },
  {
   "cell_type": "markdown",
   "id": "e16010f2-6faa-43b2-89f5-d0d59cac1b2e",
   "metadata": {},
   "source": [
    "**Use range() to print numbers from 1 to 19, skipping 2 (odd numbers).**"
   ]
  },
  {
   "cell_type": "code",
   "execution_count": 12,
   "id": "8f76d6a9-d2e1-4712-ad83-9fd396961567",
   "metadata": {},
   "outputs": [
    {
     "name": "stdout",
     "output_type": "stream",
     "text": [
      "1\n",
      "3\n",
      "5\n",
      "7\n",
      "9\n",
      "11\n",
      "13\n",
      "15\n",
      "17\n",
      "19\n"
     ]
    }
   ],
   "source": [
    "for i in range(1,20,2):\n",
    "    print(i)"
   ]
  },
  {
   "cell_type": "markdown",
   "id": "125bc068-0afb-435f-bc3d-ff7efd270450",
   "metadata": {},
   "source": [
    "**Use range() to print numbers from 5 to 50, skipping 5 (multiples of 5)**"
   ]
  },
  {
   "cell_type": "code",
   "execution_count": 13,
   "id": "fee68e99-80e8-4f7e-b7c0-bb9904f42a8b",
   "metadata": {},
   "outputs": [
    {
     "name": "stdout",
     "output_type": "stream",
     "text": [
      "5\n",
      "10\n",
      "15\n",
      "20\n",
      "25\n",
      "30\n",
      "35\n",
      "40\n",
      "45\n",
      "50\n"
     ]
    }
   ],
   "source": [
    "for i in range(5,51,5):\n",
    "    print(i)"
   ]
  },
  {
   "cell_type": "markdown",
   "id": "424d9000-460b-4fd1-8f5a-dc58d57d38f4",
   "metadata": {},
   "source": [
    "**Use range() to print numbers from 100 down to 50, skipping 10.**"
   ]
  },
  {
   "cell_type": "code",
   "execution_count": 14,
   "id": "1720560a-886f-4277-92bc-b79ba3cc09d5",
   "metadata": {},
   "outputs": [
    {
     "name": "stdout",
     "output_type": "stream",
     "text": [
      "100\n",
      "90\n",
      "80\n",
      "70\n",
      "60\n",
      "50\n"
     ]
    }
   ],
   "source": [
    "for i in range(100,49,-10):\n",
    "    print(i)"
   ]
  },
  {
   "cell_type": "markdown",
   "id": "245ce09d-f04c-4a83-87f0-03efb4357ded",
   "metadata": {},
   "source": [
    "**Print numbers from -5 to 5 using range().**"
   ]
  },
  {
   "cell_type": "code",
   "execution_count": 15,
   "id": "7c195e32-2080-4b39-95b8-432f7a3a1c4e",
   "metadata": {},
   "outputs": [
    {
     "name": "stdout",
     "output_type": "stream",
     "text": [
      "-5\n",
      "-4\n",
      "-3\n",
      "-2\n",
      "-1\n",
      "0\n",
      "1\n",
      "2\n",
      "3\n",
      "4\n",
      "5\n"
     ]
    }
   ],
   "source": [
    "for i in range(-5,6,1):\n",
    "    print(i)"
   ]
  },
  {
   "cell_type": "markdown",
   "id": "570f0579-1598-4559-9d8d-de34dc0000c6",
   "metadata": {},
   "source": [
    "**Print numbers from 50 down to 0, skipping 5.**"
   ]
  },
  {
   "cell_type": "code",
   "execution_count": 16,
   "id": "a2318eff-32d7-4872-84ee-bba13b8b3003",
   "metadata": {},
   "outputs": [
    {
     "name": "stdout",
     "output_type": "stream",
     "text": [
      "50\n",
      "45\n",
      "40\n",
      "35\n",
      "30\n",
      "25\n",
      "20\n",
      "15\n",
      "10\n",
      "5\n",
      "0\n"
     ]
    }
   ],
   "source": [
    "for i in range(50,-1,-5):\n",
    "    print(i)\n"
   ]
  },
  {
   "cell_type": "markdown",
   "id": "86984775-610c-43ae-9c54-f9eec5d8036a",
   "metadata": {},
   "source": [
    "**Print the first 10 squares using range() (1², 2² … 10²).**"
   ]
  },
  {
   "cell_type": "code",
   "execution_count": 17,
   "id": "87f723ba-992c-4630-bce1-dd0338727e7d",
   "metadata": {},
   "outputs": [
    {
     "name": "stdout",
     "output_type": "stream",
     "text": [
      "1\n",
      "4\n",
      "9\n",
      "16\n",
      "25\n",
      "36\n",
      "49\n",
      "64\n",
      "81\n",
      "100\n"
     ]
    }
   ],
   "source": [
    "for i in range(1,11,1):\n",
    "    print(i**2)"
   ]
  },
  {
   "cell_type": "markdown",
   "id": "3f151ae2-4347-4bf8-be2b-a4f3084ff700",
   "metadata": {},
   "source": [
    "**Print the first 10 cubes using range()**"
   ]
  },
  {
   "cell_type": "code",
   "execution_count": 18,
   "id": "14f7d522-f98b-4890-b95d-446af1183145",
   "metadata": {},
   "outputs": [
    {
     "name": "stdout",
     "output_type": "stream",
     "text": [
      "1\n",
      "8\n",
      "27\n",
      "64\n",
      "125\n",
      "216\n",
      "343\n",
      "512\n",
      "729\n",
      "1000\n"
     ]
    }
   ],
   "source": [
    "for i in range(1,11,1):\n",
    "    print(i**3)"
   ]
  },
  {
   "cell_type": "markdown",
   "id": "77df969c-4af5-463f-b0e8-f03cb6411034",
   "metadata": {},
   "source": [
    "**Print every 3rd number from 1 to 30.**"
   ]
  },
  {
   "cell_type": "code",
   "execution_count": 19,
   "id": "f8d02b03-e479-4bbd-95d4-422e4ec8d8d6",
   "metadata": {},
   "outputs": [
    {
     "name": "stdout",
     "output_type": "stream",
     "text": [
      "3\n",
      "6\n",
      "9\n",
      "12\n",
      "15\n",
      "18\n",
      "21\n",
      "24\n",
      "27\n",
      "30\n"
     ]
    }
   ],
   "source": [
    "for i in range(3,31,3):\n",
    "    print(i)"
   ]
  },
  {
   "cell_type": "markdown",
   "id": "df648a16-b386-4144-988c-76db348dc4a2",
   "metadata": {},
   "source": [
    "**Print numbers between 1 and 100 that are divisible by 7 using range()**"
   ]
  },
  {
   "cell_type": "code",
   "execution_count": 20,
   "id": "c2402100-c167-40f3-b011-164ed7fcb997",
   "metadata": {},
   "outputs": [
    {
     "name": "stdout",
     "output_type": "stream",
     "text": [
      "7\n",
      "14\n",
      "21\n",
      "28\n",
      "35\n",
      "42\n",
      "49\n",
      "56\n",
      "63\n",
      "70\n",
      "77\n",
      "84\n",
      "91\n",
      "98\n"
     ]
    }
   ],
   "source": [
    "for i in range(1,101):\n",
    "    if i%7==0:\n",
    "        print(i)"
   ]
  },
  {
   "cell_type": "markdown",
   "id": "43ba105a-12be-4dd6-8002-2ae012ee4572",
   "metadata": {},
   "source": [
    "**Print numbers between 1 and 50 that are divisible by both 3 and 5 using range().**"
   ]
  },
  {
   "cell_type": "code",
   "execution_count": 21,
   "id": "f34cd56e-5de1-403e-81d0-fb7d0220d548",
   "metadata": {},
   "outputs": [
    {
     "name": "stdout",
     "output_type": "stream",
     "text": [
      "15\n",
      "30\n",
      "45\n"
     ]
    }
   ],
   "source": [
    "for i in range(1,51):\n",
    "    if i%3==0 and i%5==0:\n",
    "        print(i)"
   ]
  },
  {
   "cell_type": "code",
   "execution_count": 22,
   "id": "941d5dac-c3f7-4a59-ac98-f54f90fc4fb1",
   "metadata": {},
   "outputs": [
    {
     "name": "stdout",
     "output_type": "stream",
     "text": [
      "3\n",
      "8\n",
      "14\n",
      "23\n",
      "33\n",
      "45\n",
      "60\n",
      "78\n",
      "98\n",
      "119\n",
      "143\n",
      "168\n",
      "195\n",
      "225\n",
      "258\n",
      "293\n",
      "329\n",
      "368\n",
      "408\n",
      "450\n",
      "495\n",
      "543\n",
      "593\n",
      "644\n",
      "698\n",
      "753\n",
      "810\n",
      "870\n",
      "933\n",
      "998\n",
      "1064\n",
      "1133\n",
      "1203\n",
      "1275\n",
      "1350\n",
      "1428\n",
      "1508\n",
      "1589\n",
      "1673\n",
      "1758\n",
      "1845\n",
      "1935\n",
      "2028\n",
      "2123\n",
      "2219\n",
      "2318\n",
      "Total sum of  2318\n"
     ]
    }
   ],
   "source": [
    "sum=0\n",
    "for i in range(1,100):\n",
    "    if i % 3==0 or i%5 ==0:\n",
    "        sum= sum+i\n",
    "        print(sum)\n",
    "print(\"Total sum of \",sum)        \n",
    "        \n",
    "        \n",
    "    \n",
    "    \n",
    "    "
   ]
  },
  {
   "cell_type": "markdown",
   "id": "94f2bc2e-0967-4998-863d-66082e7e3b41",
   "metadata": {},
   "source": [
    "**Take a number n (e.g., 5) and print its factorial using a for loop**"
   ]
  },
  {
   "cell_type": "code",
   "execution_count": 25,
   "id": "4b4eb72c-c3ea-4d33-97ee-52105799cc6a",
   "metadata": {},
   "outputs": [
    {
     "name": "stdin",
     "output_type": "stream",
     "text": [
      "Enter a Number : 22\n"
     ]
    },
    {
     "name": "stdout",
     "output_type": "stream",
     "text": [
      "1124000727777607680000\n"
     ]
    }
   ],
   "source": [
    "n=int(input(\"Enter a Number :\"))\n",
    "factorial=1\n",
    "for i in range(1,n+1):\n",
    "    factorial=factorial*i\n",
    "print(factorial)\n",
    "\n",
    "    "
   ]
  },
  {
   "cell_type": "markdown",
   "id": "5f69eb6f-5e1c-48d0-9f68-0fd82925ffe4",
   "metadata": {},
   "source": [
    "**Take a number (e.g., 12345) and print it in reverse using a for loop.**"
   ]
  },
  {
   "cell_type": "code",
   "execution_count": null,
   "id": "35a85ee2-54f4-4bac-962f-15f846135c1b",
   "metadata": {},
   "outputs": [],
   "source": []
  }
 ],
 "metadata": {
  "kernelspec": {
   "display_name": "Python [conda env:base] *",
   "language": "python",
   "name": "conda-base-py"
  },
  "language_info": {
   "codemirror_mode": {
    "name": "ipython",
    "version": 3
   },
   "file_extension": ".py",
   "mimetype": "text/x-python",
   "name": "python",
   "nbconvert_exporter": "python",
   "pygments_lexer": "ipython3",
   "version": "3.13.5"
  }
 },
 "nbformat": 4,
 "nbformat_minor": 5
}
