{
 "cells": [
  {
   "cell_type": "markdown",
   "id": "f5120b0d-d88e-4083-87b9-f142463b7f02",
   "metadata": {},
   "source": [
    "                                                   **STRINGS METHODS**"
   ]
  },
  {
   "cell_type": "code",
   "execution_count": 1,
   "id": "d247d848-72f8-429b-9021-ad9dbe6c0b09",
   "metadata": {},
   "outputs": [],
   "source": [
    "a=\"vivekrajverma\"\n"
   ]
  },
  {
   "cell_type": "code",
   "execution_count": 2,
   "id": "ef774813-026e-4392-8317-15c7db3db0e9",
   "metadata": {},
   "outputs": [],
   "source": [
    "b=\"Happybirthday\"\n",
    "\n"
   ]
  },
  {
   "cell_type": "code",
   "execution_count": 3,
   "id": "8e6b7128-66b1-4495-bdf3-5070fc1c73a8",
   "metadata": {},
   "outputs": [],
   "source": [
    "c=\"Ilovemycountry\""
   ]
  },
  {
   "cell_type": "code",
   "execution_count": 4,
   "id": "5f8cd7b2-17e4-46db-b625-7681e06f9bc1",
   "metadata": {},
   "outputs": [],
   "source": [
    "d=\"Iamlearningpython\""
   ]
  },
  {
   "cell_type": "code",
   "execution_count": 5,
   "id": "aaa3e9f0-f55b-4af1-a6d6-cb3b6b40ab45",
   "metadata": {},
   "outputs": [
    {
     "name": "stdout",
     "output_type": "stream",
     "text": [
      "13\n"
     ]
    }
   ],
   "source": [
    "print(len(a))"
   ]
  },
  {
   "cell_type": "code",
   "execution_count": 6,
   "id": "dc6f3df7-877c-4be4-8e72-7680578bbeaf",
   "metadata": {},
   "outputs": [
    {
     "name": "stdout",
     "output_type": "stream",
     "text": [
      "13\n"
     ]
    }
   ],
   "source": [
    "print(len(b))"
   ]
  },
  {
   "cell_type": "code",
   "execution_count": 7,
   "id": "66fe5352-7c86-4b8a-97e2-c20d4f82a6ea",
   "metadata": {},
   "outputs": [
    {
     "name": "stdout",
     "output_type": "stream",
     "text": [
      "14\n"
     ]
    }
   ],
   "source": [
    "print(len(c))"
   ]
  },
  {
   "cell_type": "code",
   "execution_count": 8,
   "id": "af99c834-e7b2-4f95-8f0f-c16962104e9f",
   "metadata": {},
   "outputs": [
    {
     "name": "stdout",
     "output_type": "stream",
     "text": [
      "17\n"
     ]
    }
   ],
   "source": [
    "print(len(d))"
   ]
  },
  {
   "cell_type": "code",
   "execution_count": 9,
   "id": "dc1e572e-c85a-4512-b75f-f6229e79ca2d",
   "metadata": {},
   "outputs": [
    {
     "name": "stdout",
     "output_type": "stream",
     "text": [
      "VIVEKRAJVERMA\n"
     ]
    }
   ],
   "source": [
    "print(a.upper())"
   ]
  },
  {
   "cell_type": "code",
   "execution_count": 10,
   "id": "a8cdc8a7-1551-4af1-9cd9-215b39d332cd",
   "metadata": {},
   "outputs": [
    {
     "name": "stdout",
     "output_type": "stream",
     "text": [
      "HAPPYBIRTHDAY\n"
     ]
    }
   ],
   "source": [
    "print(b.upper())"
   ]
  },
  {
   "cell_type": "code",
   "execution_count": 11,
   "id": "0fe7ff35-a814-4324-a9e7-78419d450be3",
   "metadata": {},
   "outputs": [
    {
     "name": "stdout",
     "output_type": "stream",
     "text": [
      "ILOVEMYCOUNTRY\n"
     ]
    }
   ],
   "source": [
    "print(c.upper())"
   ]
  },
  {
   "cell_type": "code",
   "execution_count": 12,
   "id": "c2426362-1bf6-4a62-93e9-487cc5f1b133",
   "metadata": {},
   "outputs": [
    {
     "name": "stdout",
     "output_type": "stream",
     "text": [
      "IAMLEARNINGPYTHON\n"
     ]
    }
   ],
   "source": [
    "print(d.upper())"
   ]
  },
  {
   "cell_type": "code",
   "execution_count": 13,
   "id": "e95c448a-d384-4385-a6b9-eea2de31ec3b",
   "metadata": {},
   "outputs": [
    {
     "name": "stdout",
     "output_type": "stream",
     "text": [
      "vivekrajverma\n"
     ]
    }
   ],
   "source": [
    "print(a.lower())"
   ]
  },
  {
   "cell_type": "code",
   "execution_count": 14,
   "id": "cdbfe263-0ba9-4f98-a14b-614f8eec9d64",
   "metadata": {},
   "outputs": [
    {
     "name": "stdout",
     "output_type": "stream",
     "text": [
      "happybirthday\n"
     ]
    }
   ],
   "source": [
    "print(b.lower())\n"
   ]
  },
  {
   "cell_type": "code",
   "execution_count": 15,
   "id": "b153f817-7d82-4797-ab3b-7c1b438ec0e0",
   "metadata": {},
   "outputs": [
    {
     "name": "stdout",
     "output_type": "stream",
     "text": [
      "ilovemycountry\n"
     ]
    }
   ],
   "source": [
    "print(c.lower())"
   ]
  },
  {
   "cell_type": "code",
   "execution_count": 16,
   "id": "e92e46b6-2e3d-417d-a95d-f0ff21285f6b",
   "metadata": {},
   "outputs": [
    {
     "name": "stdout",
     "output_type": "stream",
     "text": [
      "iamlearningpython\n"
     ]
    }
   ],
   "source": [
    "print(d.lower())\n"
   ]
  },
  {
   "cell_type": "code",
   "execution_count": 17,
   "id": "fc2a8649-14a1-4eb7-8120-a5c7e2071c50",
   "metadata": {},
   "outputs": [
    {
     "name": "stdout",
     "output_type": "stream",
     "text": [
      "13\n"
     ]
    }
   ],
   "source": [
    "print(len(b))"
   ]
  },
  {
   "cell_type": "code",
   "execution_count": 18,
   "id": "d12119ee-13d9-4d5b-9941-bfbfbd6c50cd",
   "metadata": {},
   "outputs": [
    {
     "name": "stdout",
     "output_type": "stream",
     "text": [
      "14\n"
     ]
    }
   ],
   "source": [
    "print(len(c))"
   ]
  },
  {
   "cell_type": "code",
   "execution_count": 19,
   "id": "ca4f231e-c8e4-4136-a39e-5e6c266bd378",
   "metadata": {},
   "outputs": [
    {
     "name": "stdout",
     "output_type": "stream",
     "text": [
      "17\n"
     ]
    }
   ],
   "source": [
    "print(len(d))"
   ]
  },
  {
   "cell_type": "code",
   "execution_count": 20,
   "id": "ac20df45-5f92-4320-83d0-dbaf68e6db61",
   "metadata": {},
   "outputs": [],
   "source": [
    "e=\"!!!vivekrajverma!!!\""
   ]
  },
  {
   "cell_type": "code",
   "execution_count": 21,
   "id": "0858569e-3e28-42ed-a87d-973749a80061",
   "metadata": {},
   "outputs": [
    {
     "name": "stdout",
     "output_type": "stream",
     "text": [
      "!!!vivekrajverma\n"
     ]
    }
   ],
   "source": [
    "print(e.rstrip(\"!\"))#Leading(!)dont remove fromrstrip method."
   ]
  },
  {
   "cell_type": "code",
   "execution_count": 22,
   "id": "d07fb573-edf2-42fc-bd0d-907d78db0a5c",
   "metadata": {},
   "outputs": [],
   "source": [
    "f=\"!!!India is my country and i belong to Bihar!!!\""
   ]
  },
  {
   "cell_type": "code",
   "execution_count": 23,
   "id": "0c398f4e-e20c-46bd-8f9e-bd55e8232474",
   "metadata": {},
   "outputs": [
    {
     "name": "stdout",
     "output_type": "stream",
     "text": [
      "!!!India is my country and i belong to Bihar\n"
     ]
    }
   ],
   "source": [
    "print(f.rstrip(\"!\"))#Only trailing remove from rstrip methods."
   ]
  },
  {
   "cell_type": "code",
   "execution_count": 24,
   "id": "faa87058-99d0-4b09-bfae-46ebe0f6754a",
   "metadata": {},
   "outputs": [],
   "source": [
    "g=\"viratkohli\""
   ]
  },
  {
   "cell_type": "code",
   "execution_count": 25,
   "id": "4419b971-1814-4b8e-a9b4-dd5d650ba5a4",
   "metadata": {},
   "outputs": [
    {
     "name": "stdout",
     "output_type": "stream",
     "text": [
      "rohitsharma\n"
     ]
    }
   ],
   "source": [
    "print(g.replace(\"viratkohli\",\"rohitsharma\"))"
   ]
  },
  {
   "cell_type": "code",
   "execution_count": 26,
   "id": "bfb043bb-ae33-4999-9f4e-5e34ab706557",
   "metadata": {},
   "outputs": [],
   "source": [
    "h=\"vivek rohan shyam\""
   ]
  },
  {
   "cell_type": "code",
   "execution_count": 27,
   "id": "90a44912-d209-4462-9e86-22607bcb6dc8",
   "metadata": {},
   "outputs": [
    {
     "name": "stdout",
     "output_type": "stream",
     "text": [
      "['vivek', 'rohan', 'shyam']\n"
     ]
    }
   ],
   "source": [
    "print(h.split(\" \"))#return list"
   ]
  },
  {
   "cell_type": "code",
   "execution_count": 28,
   "id": "6682c3ec-8b3b-43b1-aad8-da72a16430c0",
   "metadata": {},
   "outputs": [
    {
     "name": "stdout",
     "output_type": "stream",
     "text": [
      "['!!!India', 'is', 'my', 'country', 'and', 'i', 'belong', 'to', 'Bihar!!!']\n"
     ]
    }
   ],
   "source": [
    "print(f.split(\" \"))"
   ]
  },
  {
   "cell_type": "code",
   "execution_count": 29,
   "id": "85b27b78-caca-4e55-9ad2-e17e86896172",
   "metadata": {},
   "outputs": [],
   "source": [
    "blogheading=\"introduction tO jS\"#only first letter will convert into upper case rest is lower case"
   ]
  },
  {
   "cell_type": "code",
   "execution_count": 30,
   "id": "0aaa993c-a783-4558-a159-0a01663a4a21",
   "metadata": {},
   "outputs": [
    {
     "name": "stdout",
     "output_type": "stream",
     "text": [
      "Introduction to js\n"
     ]
    }
   ],
   "source": [
    "print(blogheading.capitalize())"
   ]
  },
  {
   "cell_type": "code",
   "execution_count": 31,
   "id": "d8dfe7cf-58ac-4a5a-ae80-4cda96dfd2e7",
   "metadata": {},
   "outputs": [],
   "source": [
    "vivek=\"VivekRAJVerma\""
   ]
  },
  {
   "cell_type": "code",
   "execution_count": 32,
   "id": "13b59fbd-d6d6-4cfa-b16c-bcf83f2245a6",
   "metadata": {},
   "outputs": [
    {
     "name": "stdout",
     "output_type": "stream",
     "text": [
      "Vivekrajverma\n"
     ]
    }
   ],
   "source": [
    "print(vivek.capitalize())"
   ]
  },
  {
   "cell_type": "code",
   "execution_count": 33,
   "id": "6323467b-3eef-45e0-9243-47a1144afb0e",
   "metadata": {},
   "outputs": [],
   "source": [
    "a1=\"shyam is a good boy\""
   ]
  },
  {
   "cell_type": "code",
   "execution_count": 34,
   "id": "a8a71a88-7b72-4bf7-b243-7236413426d5",
   "metadata": {},
   "outputs": [
    {
     "name": "stdout",
     "output_type": "stream",
     "text": [
      "     shyam is a good boy      \n"
     ]
    }
   ],
   "source": [
    "print(a1.center(30))"
   ]
  },
  {
   "cell_type": "code",
   "execution_count": 35,
   "id": "3569f1dc-abbb-4bac-9930-81bee2a9ffe6",
   "metadata": {},
   "outputs": [
    {
     "name": "stdout",
     "output_type": "stream",
     "text": [
      "                                                                                                                                                                                                                                                                                                                                                                                                                                                                                                                                                                                                                                                                                                                                                                                                                                                                                                                                                                                                                              shyam is a good boy                                                                                                                                                                                                                                                                                                                                                                                                                                                                                                                                                                                                                                                                                                                                                                                                                                                                                                                                                                                                                               \n"
     ]
    }
   ],
   "source": [
    "print(a1.center(2000))"
   ]
  },
  {
   "cell_type": "code",
   "execution_count": 36,
   "id": "4ee32365-e7bc-4563-a9f7-a64dc233a03d",
   "metadata": {},
   "outputs": [
    {
     "name": "stdout",
     "output_type": "stream",
     "text": [
      "19\n"
     ]
    }
   ],
   "source": [
    "print(len(a1))"
   ]
  },
  {
   "cell_type": "code",
   "execution_count": 37,
   "id": "fbf66127-ff7f-4ffa-8ae0-ea5aae840924",
   "metadata": {},
   "outputs": [
    {
     "name": "stdout",
     "output_type": "stream",
     "text": [
      "2000\n"
     ]
    }
   ],
   "source": [
    "print(len(a1.center(2000)))"
   ]
  },
  {
   "cell_type": "code",
   "execution_count": 38,
   "id": "6ea1c666-df8e-4da8-a46b-159873ef364f",
   "metadata": {},
   "outputs": [],
   "source": [
    "a2='''Harry is a good boy\", Harry is good and naughty'''"
   ]
  },
  {
   "cell_type": "code",
   "execution_count": 39,
   "id": "30ea9c06-1be3-4f5f-a0a0-26b489b85620",
   "metadata": {},
   "outputs": [
    {
     "name": "stdout",
     "output_type": "stream",
     "text": [
      "2\n"
     ]
    }
   ],
   "source": [
    "print(a2.count(\"Harry\"))#How many times count harry in a2variable"
   ]
  },
  {
   "cell_type": "code",
   "execution_count": 40,
   "id": "a8878a8a-ffdd-4b7c-8173-ba2f0638614d",
   "metadata": {},
   "outputs": [],
   "source": [
    "a3=\"Welcome to python tutorial!!!\"#returns boolean data type."
   ]
  },
  {
   "cell_type": "code",
   "execution_count": 41,
   "id": "5f2cd643-edf3-42fd-a966-e03916b73891",
   "metadata": {},
   "outputs": [
    {
     "name": "stdout",
     "output_type": "stream",
     "text": [
      "True\n"
     ]
    }
   ],
   "source": [
    "print(a3.endswith(\"!!!\"))"
   ]
  },
  {
   "cell_type": "code",
   "execution_count": 42,
   "id": "de02d53e-23da-4893-a372-ddf1895fac4c",
   "metadata": {},
   "outputs": [],
   "source": [
    "a4=\"Welcome to python tutorial\""
   ]
  },
  {
   "cell_type": "code",
   "execution_count": 43,
   "id": "7b67bd9c-4d7c-454d-b6ec-240b54d73d70",
   "metadata": {},
   "outputs": [
    {
     "name": "stdout",
     "output_type": "stream",
     "text": [
      "True\n"
     ]
    }
   ],
   "source": [
    "print(a4.endswith(\"to\",4,10))#by slicing 4,10"
   ]
  },
  {
   "cell_type": "code",
   "execution_count": 44,
   "id": "73af7135-3ef5-4cad-ad63-79b377f8beae",
   "metadata": {},
   "outputs": [],
   "source": [
    "a5=\"India is my county and all indians are my brother\""
   ]
  },
  {
   "cell_type": "code",
   "execution_count": 45,
   "id": "2edb7358-586d-4f0c-8be8-739d1d029ed2",
   "metadata": {},
   "outputs": [
    {
     "name": "stdout",
     "output_type": "stream",
     "text": [
      "6\n"
     ]
    }
   ],
   "source": [
    "print(a5.find(\"is\"))#Returns index if no occurance return(-1)"
   ]
  },
  {
   "cell_type": "code",
   "execution_count": 46,
   "id": "3e067b2a-4135-4a94-b591-7b5affe37596",
   "metadata": {},
   "outputs": [
    {
     "name": "stdout",
     "output_type": "stream",
     "text": [
      "35\n"
     ]
    }
   ],
   "source": [
    "print(a5.find(\"are\"))"
   ]
  },
  {
   "cell_type": "code",
   "execution_count": 47,
   "id": "ad4248fc-da3a-4c4e-81b5-e3e51a786d9a",
   "metadata": {},
   "outputs": [],
   "source": [
    "a6=\"I am vivekraverma and I have 61 mangoes.\"#made from a to z, AtoZ, 0-9"
   ]
  },
  {
   "cell_type": "code",
   "execution_count": 48,
   "id": "9bb2a27d-73b9-4ea5-8ed6-a2e55fb56bd0",
   "metadata": {},
   "outputs": [
    {
     "name": "stdout",
     "output_type": "stream",
     "text": [
      "False\n"
     ]
    }
   ],
   "source": [
    "print(a6.isalnum())"
   ]
  },
  {
   "cell_type": "code",
   "execution_count": 49,
   "id": "dde3e821-4edb-4ba3-a197-68452a1377ff",
   "metadata": {},
   "outputs": [],
   "source": [
    "a6=\"I am vivekraverma and I have 6 mangoes.\""
   ]
  },
  {
   "cell_type": "code",
   "execution_count": 50,
   "id": "e3131fe8-fe4c-4642-8476-ebe69cb0d5e4",
   "metadata": {},
   "outputs": [
    {
     "name": "stdout",
     "output_type": "stream",
     "text": [
      "False\n"
     ]
    }
   ],
   "source": [
    "print(a6.isalnum())"
   ]
  },
  {
   "cell_type": "code",
   "execution_count": 51,
   "id": "080aa5ac-8fe2-4424-b9b8-e2be9d91c063",
   "metadata": {},
   "outputs": [],
   "source": [
    "a6=\"I am vivekraverma and I have mangoes.\""
   ]
  },
  {
   "cell_type": "code",
   "execution_count": 52,
   "id": "68bb902e-997f-415a-a78e-ffad08179ebf",
   "metadata": {},
   "outputs": [
    {
     "name": "stdout",
     "output_type": "stream",
     "text": [
      "False\n"
     ]
    }
   ],
   "source": [
    "print(a6.isalnum())"
   ]
  },
  {
   "cell_type": "code",
   "execution_count": 53,
   "id": "7116fb4e-a336-4fcf-9195-ed066b2b9e11",
   "metadata": {},
   "outputs": [],
   "source": [
    "a6=\"iamvivekrajverma\""
   ]
  },
  {
   "cell_type": "code",
   "execution_count": 54,
   "id": "60e5eff2-3eb7-495e-ad80-f17624ea6275",
   "metadata": {},
   "outputs": [
    {
     "name": "stdout",
     "output_type": "stream",
     "text": [
      "True\n"
     ]
    }
   ],
   "source": [
    "print(a6.isalnum())"
   ]
  },
  {
   "cell_type": "code",
   "execution_count": 55,
   "id": "d73fc7dc-cf9e-4315-a0f8-8a57d19227f0",
   "metadata": {},
   "outputs": [],
   "source": [
    "a6=\"12335544\"\n"
   ]
  },
  {
   "cell_type": "code",
   "execution_count": 56,
   "id": "6090186d-772f-45cf-acf5-69e738afcd52",
   "metadata": {},
   "outputs": [
    {
     "name": "stdout",
     "output_type": "stream",
     "text": [
      "True\n"
     ]
    }
   ],
   "source": [
    "print(a6.isalnum())"
   ]
  },
  {
   "cell_type": "code",
   "execution_count": 57,
   "id": "90cc9b87-77fb-44da-8012-36158949df55",
   "metadata": {},
   "outputs": [],
   "source": [
    "a7=\"welcome00\""
   ]
  },
  {
   "cell_type": "code",
   "execution_count": 58,
   "id": "4ca3e6cd-d9c0-4309-bc53-3e10170776a4",
   "metadata": {},
   "outputs": [
    {
     "name": "stdout",
     "output_type": "stream",
     "text": [
      "False\n"
     ]
    }
   ],
   "source": [
    "print(a7.isalpha())#made from alphabet only(a toz, AtoZ)"
   ]
  },
  {
   "cell_type": "code",
   "execution_count": 59,
   "id": "71d0106c-6afa-40d0-b34b-31be27876d7f",
   "metadata": {},
   "outputs": [],
   "source": [
    "a7=\"welcome\""
   ]
  },
  {
   "cell_type": "code",
   "execution_count": 60,
   "id": "99751f02-0320-4a02-ba44-b83a1d6db1bc",
   "metadata": {},
   "outputs": [
    {
     "name": "stdout",
     "output_type": "stream",
     "text": [
      "True\n"
     ]
    }
   ],
   "source": [
    "print(a7.isalpha())"
   ]
  },
  {
   "cell_type": "code",
   "execution_count": 61,
   "id": "29dd40fb-2239-4965-b944-0b4277552a21",
   "metadata": {},
   "outputs": [],
   "source": [
    "a7='iamvivek'"
   ]
  },
  {
   "cell_type": "code",
   "execution_count": 62,
   "id": "85ed8939-8659-4bb8-9351-0395d9721ab3",
   "metadata": {},
   "outputs": [
    {
     "name": "stdout",
     "output_type": "stream",
     "text": [
      "True\n"
     ]
    }
   ],
   "source": [
    "print(a7.islower())"
   ]
  },
  {
   "cell_type": "code",
   "execution_count": 63,
   "id": "2c964028-bdf3-4ccb-97df-0c210fe06a6c",
   "metadata": {},
   "outputs": [],
   "source": [
    "a7=\"Iamvivek\""
   ]
  },
  {
   "cell_type": "code",
   "execution_count": 64,
   "id": "9434df91-a872-4e50-9585-f028cfb25ad0",
   "metadata": {},
   "outputs": [
    {
     "name": "stdout",
     "output_type": "stream",
     "text": [
      "False\n"
     ]
    }
   ],
   "source": [
    "print(a7.islower())"
   ]
  },
  {
   "cell_type": "code",
   "execution_count": 65,
   "id": "026f44d6-1db9-4420-a496-3489dcca7c3b",
   "metadata": {},
   "outputs": [],
   "source": [
    "a8=\"i am vivek raj\""
   ]
  },
  {
   "cell_type": "code",
   "execution_count": 66,
   "id": "a53bd53d-a088-4319-93dd-161492bb5ed5",
   "metadata": {},
   "outputs": [
    {
     "name": "stdout",
     "output_type": "stream",
     "text": [
      "True\n"
     ]
    }
   ],
   "source": [
    "print(a8.isprintable())"
   ]
  },
  {
   "cell_type": "code",
   "execution_count": 67,
   "id": "1f88dd7b-686e-4c6c-84fe-059e5aadf4fd",
   "metadata": {},
   "outputs": [],
   "source": [
    "a8=\"I am vivek i am a good boy \\n\""
   ]
  },
  {
   "cell_type": "code",
   "execution_count": 68,
   "id": "ea0874b6-f08d-4181-90b4-5e39cb8bfe9d",
   "metadata": {},
   "outputs": [
    {
     "name": "stdout",
     "output_type": "stream",
     "text": [
      "False\n"
     ]
    }
   ],
   "source": [
    "print(a8.isprintable())"
   ]
  },
  {
   "cell_type": "code",
   "execution_count": 69,
   "id": "3151497d-327f-48be-bef9-3d1d258ecdf2",
   "metadata": {},
   "outputs": [],
   "source": [
    "a9=\"i am vivek raj verma\"#if having spcace in will return \"True\",otherwise false"
   ]
  },
  {
   "cell_type": "code",
   "execution_count": 70,
   "id": "a349b3f7-ca91-46df-bb60-b78feadacb68",
   "metadata": {},
   "outputs": [
    {
     "name": "stdout",
     "output_type": "stream",
     "text": [
      "False\n"
     ]
    }
   ],
   "source": [
    "print(a8.isspace())"
   ]
  },
  {
   "cell_type": "code",
   "execution_count": 71,
   "id": "f4b6ab19-28a6-4ce7-a5b8-e3c2db251c92",
   "metadata": {},
   "outputs": [],
   "source": [
    "a9=   \"iamvivekrajverma\""
   ]
  },
  {
   "cell_type": "code",
   "execution_count": 72,
   "id": "87c04358-50c8-43ab-af66-24b4e41a5982",
   "metadata": {},
   "outputs": [
    {
     "name": "stdout",
     "output_type": "stream",
     "text": [
      "False\n"
     ]
    }
   ],
   "source": [
    "print(a9.isspace())"
   ]
  },
  {
   "cell_type": "code",
   "execution_count": 73,
   "id": "af4a29d5-1ccc-4a9a-a09a-c60015642b9d",
   "metadata": {},
   "outputs": [],
   "source": [
    "a9=\"   \""
   ]
  },
  {
   "cell_type": "code",
   "execution_count": 74,
   "id": "1bf8ad5c-f33d-4347-84da-53fc1ab60fb5",
   "metadata": {},
   "outputs": [
    {
     "name": "stdout",
     "output_type": "stream",
     "text": [
      "True\n"
     ]
    }
   ],
   "source": [
    "print(a9.isspace())"
   ]
  },
  {
   "cell_type": "code",
   "execution_count": 75,
   "id": "92f9d021-61cc-4c95-9914-9e53e8d88377",
   "metadata": {},
   "outputs": [],
   "source": [
    "a10=\"World Health Organisation\""
   ]
  },
  {
   "cell_type": "code",
   "execution_count": 76,
   "id": "036416fa-182d-4d95-bc81-caca057950d8",
   "metadata": {},
   "outputs": [
    {
     "name": "stdout",
     "output_type": "stream",
     "text": [
      "True\n"
     ]
    }
   ],
   "source": [
    "print(a10.istitle())#Only if the first letter of each word is capitalized returns true other wise false. "
   ]
  },
  {
   "cell_type": "code",
   "execution_count": 77,
   "id": "eeb6130f-77c0-46ca-ada4-aec34c479c39",
   "metadata": {},
   "outputs": [],
   "source": [
    "a10=\"world health organisation\""
   ]
  },
  {
   "cell_type": "code",
   "execution_count": 78,
   "id": "f57d56f5-f166-42a3-a119-dbee64cac9e8",
   "metadata": {},
   "outputs": [
    {
     "name": "stdout",
     "output_type": "stream",
     "text": [
      "False\n"
     ]
    }
   ],
   "source": [
    "print(a10.istitle())"
   ]
  },
  {
   "cell_type": "code",
   "execution_count": 79,
   "id": "a9e53956-f9b4-470d-8e48-56cbda0e97d3",
   "metadata": {},
   "outputs": [],
   "source": [
    "a11=\"Father is the backbone of a family\"#print true or false according to first word(Father)"
   ]
  },
  {
   "cell_type": "code",
   "execution_count": 80,
   "id": "eebff032-0576-4d74-a62a-8fced79f4bd9",
   "metadata": {},
   "outputs": [
    {
     "name": "stdout",
     "output_type": "stream",
     "text": [
      "True\n"
     ]
    }
   ],
   "source": [
    "print(a11.startswith(\"Father\"))"
   ]
  },
  {
   "cell_type": "code",
   "execution_count": 81,
   "id": "d4ca898a-3c13-4874-8c6a-b0795d8803e6",
   "metadata": {},
   "outputs": [],
   "source": [
    "a12=\"I love My Country\""
   ]
  },
  {
   "cell_type": "code",
   "execution_count": 82,
   "id": "ed53caeb-f148-442b-8062-1631a04f13b0",
   "metadata": {},
   "outputs": [
    {
     "name": "stdout",
     "output_type": "stream",
     "text": [
      "i LOVE mY cOUNTRY\n"
     ]
    }
   ],
   "source": [
    "print(a12.swapcase())# this methods help to swap from upper to lower and lower to upper\n"
   ]
  },
  {
   "cell_type": "code",
   "execution_count": 83,
   "id": "7a80d7a2-f7f8-4ed0-b624-718028f06039",
   "metadata": {},
   "outputs": [],
   "source": [
    "a13=\"I am living in this country\"#convert all first letter to capital."
   ]
  },
  {
   "cell_type": "code",
   "execution_count": 84,
   "id": "fe2208fc-2051-42fd-ba1f-052f663302e6",
   "metadata": {},
   "outputs": [
    {
     "name": "stdout",
     "output_type": "stream",
     "text": [
      "I Am Living In This Country\n"
     ]
    }
   ],
   "source": [
    "print(a13.title())"
   ]
  },
  {
   "cell_type": "code",
   "execution_count": null,
   "id": "74c1b965-13e2-4c9f-9428-ba695932d89e",
   "metadata": {},
   "outputs": [],
   "source": []
  }
 ],
 "metadata": {
  "kernelspec": {
   "display_name": "Python [conda env:base] *",
   "language": "python",
   "name": "conda-base-py"
  },
  "language_info": {
   "codemirror_mode": {
    "name": "ipython",
    "version": 3
   },
   "file_extension": ".py",
   "mimetype": "text/x-python",
   "name": "python",
   "nbconvert_exporter": "python",
   "pygments_lexer": "ipython3",
   "version": "3.13.5"
  }
 },
 "nbformat": 4,
 "nbformat_minor": 5
}
