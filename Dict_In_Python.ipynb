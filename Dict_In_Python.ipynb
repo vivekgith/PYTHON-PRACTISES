{
 "cells": [
  {
   "cell_type": "markdown",
   "id": "bea6c079-d4c1-48d5-b781-700d3c7de1a3",
   "metadata": {},
   "source": [
    "**How to Create Dict**"
   ]
  },
  {
   "cell_type": "code",
   "execution_count": 5,
   "id": "5918358b-f312-4926-9062-a3596d69b801",
   "metadata": {},
   "outputs": [
    {
     "data": {
      "text/plain": [
       "{'r': 'Rahul', 'p': 'Payal'}"
      ]
     },
     "execution_count": 5,
     "metadata": {},
     "output_type": "execute_result"
    }
   ],
   "source": [
    "d1={102:\"Rahul\",105:\"Payal\",106:\"Arjun\",107:\"Prachi\"}\n",
    "type(d1)\n",
    "d2={} #Create empty dict\n",
    "type(d2)\n",
    "#d3=dict()#Empty dict&it is a function.Don't use : in function.\n",
    "d3=dict(r=\"Rahul\",p=\"Payal\") #variable as a str and make it key.\n",
    "d3\n"
   ]
  },
  {
   "cell_type": "markdown",
   "id": "a953d097-d0f1-44fb-be18-a6a7e718f1b9",
   "metadata": {},
   "source": [
    "**Accessing Dict Element**"
   ]
  },
  {
   "cell_type": "code",
   "execution_count": 11,
   "id": "106a2b76-737e-4dc8-bebd-563a775f8d83",
   "metadata": {},
   "outputs": [
    {
     "name": "stdout",
     "output_type": "stream",
     "text": [
      "{102: 'Rahul', 105: 'Payal', 106: 'Arjun', 107: 'Prachi'}\n",
      "Rahul\n",
      "Rahul Payal Arjun Prachi\n",
      "102 Rahul\n",
      "105 Payal\n",
      "106 Arjun\n",
      "107 Prachi\n"
     ]
    }
   ],
   "source": [
    "print(d1) #First way to access.\n",
    "print(d1[102])\n",
    "print(d1[102],d1[105],d1[106],d1[107]) #Second way via key\n",
    "for k in d1:\n",
    "    print(k,d1[k])"
   ]
  },
  {
   "cell_type": "markdown",
   "id": "839dca23-5c29-4ef3-9f0d-9efbfe3d4cbc",
   "metadata": {},
   "source": [
    "**How To Edit Dict Element/Add Element**"
   ]
  },
  {
   "cell_type": "code",
   "execution_count": 17,
   "id": "57f15a87-999c-45a0-84d5-6cfbad2451bc",
   "metadata": {},
   "outputs": [
    {
     "data": {
      "text/plain": [
       "{105: 'Sonam', 106: 'Karan', 107: 'Ranchi'}"
      ]
     },
     "execution_count": 17,
     "metadata": {},
     "output_type": "execute_result"
    }
   ],
   "source": [
    "d1\n",
    "d1[102]=\"Ruchi\"\n",
    "d1[105]=\"Sonam\" #We can edit element via key value and we can change only data value not key value.\n",
    "                # If yoy want to change key value you have to delete it in pair with both key and data.\n",
    "d1[106]=\"Karan\"\n",
    "d1[107]=\"Ranchi\"\n",
    "\n",
    "d1\n",
    "del d1[102] #To delete data.\n",
    "d1"
   ]
  },
  {
   "cell_type": "markdown",
   "id": "44bebae4-596d-4085-a943-9b80f3bc3707",
   "metadata": {},
   "source": [
    "**Built -In - Methods**"
   ]
  },
  {
   "cell_type": "code",
   "execution_count": 23,
   "id": "2c5f78c1-98ba-4d7e-9749-191eda0d9508",
   "metadata": {},
   "outputs": [
    {
     "data": {
      "text/plain": [
       "[107, 106, 105]"
      ]
     },
     "execution_count": 23,
     "metadata": {},
     "output_type": "execute_result"
    }
   ],
   "source": [
    "#All thses methods are dict class atributes.\n",
    "len(d1)\n",
    "min(d1) # Watch only key value to check min or max.\n",
    "max(d1)\n",
    "sum(d1) #Add key values\n",
    "sorted(d1,reverse=True)\n",
    "#Actually all functions work on key."
   ]
  },
  {
   "cell_type": "code",
   "execution_count": 24,
   "id": "6711738e-f01d-4a4c-a126-af25bc5b6743",
   "metadata": {},
   "outputs": [
    {
     "data": {
      "text/plain": [
       "False"
      ]
     },
     "execution_count": 24,
     "metadata": {},
     "output_type": "execute_result"
    }
   ],
   "source": [
    "#Concatination & Repetation Operator Not Supported\n",
    "#Comparison Operator not supported <,>,<=,>=.\n",
    "d1==d2  #Two dicts objects are equal if their items are equal.Elements can be store in any order.Sequence does not matter.\n",
    "#d3={'p':'payal','r':'Rahul'}\n",
    "#d4={'r': 'rahul' , p:'Payal}"
   ]
  },
  {
   "cell_type": "markdown",
   "id": "6da5994c-941d-4dff-88fe-1d2fdd9bbfb9",
   "metadata": {},
   "source": [
    "**Dict Object Method**"
   ]
  },
  {
   "cell_type": "code",
   "execution_count": 12,
   "id": "5b4efc6e-3547-4df1-a386-843c2741600a",
   "metadata": {},
   "outputs": [
    {
     "data": {
      "text/plain": [
       "{}"
      ]
     },
     "execution_count": 12,
     "metadata": {},
     "output_type": "execute_result"
    }
   ],
   "source": [
    "d1={102: 'Rahul', 105: 'Payal', 106: 'Arjun', 107: 'Prachi'}\n",
    "d1\n",
    "d1.pop(102)\n",
    "d1.popitem()#Remove Last one \n",
    "d1.clear()\n",
    "d1"
   ]
  }
 ],
 "metadata": {
  "kernelspec": {
   "display_name": "Python [conda env:base] *",
   "language": "python",
   "name": "conda-base-py"
  },
  "language_info": {
   "codemirror_mode": {
    "name": "ipython",
    "version": 3
   },
   "file_extension": ".py",
   "mimetype": "text/x-python",
   "name": "python",
   "nbconvert_exporter": "python",
   "pygments_lexer": "ipython3",
   "version": "3.13.5"
  }
 },
 "nbformat": 4,
 "nbformat_minor": 5
}
