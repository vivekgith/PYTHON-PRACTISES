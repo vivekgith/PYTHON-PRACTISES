{
 "cells": [
  {
   "cell_type": "code",
   "execution_count": 1,
   "id": "5b14bd4a-7393-442d-9498-524df08a4e20",
   "metadata": {},
   "outputs": [
    {
     "data": {
      "text/plain": [
       "list"
      ]
     },
     "execution_count": 1,
     "metadata": {},
     "output_type": "execute_result"
    }
   ],
   "source": [
    "l1=[10,40,20,30]\n",
    "type(l1)"
   ]
  },
  {
   "cell_type": "code",
   "execution_count": 2,
   "id": "72dbddb5-ce6d-4ac3-9a51-70932608fd03",
   "metadata": {},
   "outputs": [],
   "source": [
    "l2=[40,True,4.5,3+4j,10,'vivek'] #list is heterogeneous."
   ]
  },
  {
   "cell_type": "code",
   "execution_count": 3,
   "id": "232cbbbd-a8d4-4f86-99d8-b4660afa72de",
   "metadata": {},
   "outputs": [],
   "source": [
    "l3=[] #Empty list"
   ]
  },
  {
   "cell_type": "markdown",
   "id": "032da603-57ac-422f-ae91-7b6ecd2f3678",
   "metadata": {},
   "source": [
    "**How to access list element**"
   ]
  },
  {
   "cell_type": "code",
   "execution_count": 4,
   "id": "e77be5de-3894-49ed-969b-397abf26ded0",
   "metadata": {},
   "outputs": [
    {
     "name": "stdout",
     "output_type": "stream",
     "text": [
      "[50, 20, 80, 10, 60, 40]\n"
     ]
    }
   ],
   "source": [
    "l1=[50,20,80,10,60,40]\n",
    "print(l1)"
   ]
  },
  {
   "cell_type": "markdown",
   "id": "436e4bc5-c8a1-415e-9172-e03c566c460b",
   "metadata": {},
   "source": [
    "**How to access 1 particular index**"
   ]
  },
  {
   "cell_type": "code",
   "execution_count": 5,
   "id": "2efd7567-cfd9-40ac-ad26-7dcb2f19f032",
   "metadata": {},
   "outputs": [
    {
     "name": "stdout",
     "output_type": "stream",
     "text": [
      "50\n",
      "20\n",
      "80\n",
      "10\n",
      "60\n",
      "40\n",
      "10 40\n"
     ]
    }
   ],
   "source": [
    "l1=[50,20,80,10,60,40]\n",
    "print(l1[0])\n",
    "print(l1[1])\n",
    "print(l1[2])\n",
    "print(l1[3])\n",
    "print(l1[4])\n",
    "print(l1[5])\n",
    "print(l1[3],l1[5])"
   ]
  },
  {
   "cell_type": "markdown",
   "id": "8163faee-0f9a-4ee6-bd3a-f1722305ba72",
   "metadata": {},
   "source": [
    "**Negative Indexing**"
   ]
  },
  {
   "cell_type": "code",
   "execution_count": 6,
   "id": "fd573f48-ac12-4394-8c39-fa4b4af38017",
   "metadata": {},
   "outputs": [
    {
     "name": "stdout",
     "output_type": "stream",
     "text": [
      "60\n",
      "50\n",
      "40\n"
     ]
    }
   ],
   "source": [
    "l1=[10,20,30,40,50,60]\n",
    "print(l1[-1])\n",
    "print(l1[-2])\n",
    "print(l1[-3])"
   ]
  },
  {
   "cell_type": "code",
   "execution_count": 7,
   "id": "b2fb721a-7522-45c8-8f3f-ef8183d4f2b1",
   "metadata": {},
   "outputs": [
    {
     "name": "stdout",
     "output_type": "stream",
     "text": [
      "10 20 30 40 "
     ]
    }
   ],
   "source": [
    "l1=[10,20,30,40]\n",
    "for i in l1:\n",
    "    print(i,end=' ')"
   ]
  },
  {
   "cell_type": "markdown",
   "id": "de28044b-04bb-4593-a6ee-36cc3dc88636",
   "metadata": {},
   "source": [
    "**How to delete an element from list**"
   ]
  },
  {
   "cell_type": "code",
   "execution_count": 12,
   "id": "e004d2fa-8c80-488c-b00d-e2d40328147c",
   "metadata": {},
   "outputs": [
    {
     "name": "stdout",
     "output_type": "stream",
     "text": [
      "[50, 80, 10, 60]\n"
     ]
    }
   ],
   "source": [
    "l1=[50,20,80,10,60]\n",
    "del l1[1] #delete through indexing.\n",
    "print(l1)"
   ]
  },
  {
   "cell_type": "markdown",
   "id": "52f154e2-84e0-4ff4-907b-1c3561efc06e",
   "metadata": {},
   "source": [
    "**How to edit an element in list**"
   ]
  },
  {
   "cell_type": "code",
   "execution_count": 16,
   "id": "7df6d3b0-e65d-4a58-9b4b-bf35aa28b8d3",
   "metadata": {},
   "outputs": [
    {
     "name": "stdout",
     "output_type": "stream",
     "text": [
      "[20, 22, 33, 24, 28, 30]\n",
      "[20, 22, 33, 24, 28, 1]\n",
      "[20, 22, 33, 24, 2, 1]\n"
     ]
    }
   ],
   "source": [
    "l1=[20,22,23,24,28,30]\n",
    "l1[2]=33\n",
    "print(l1)\n",
    "l1[5]=1\n",
    "print(l1)\n",
    "l1[4]=2\n",
    "print(l1)"
   ]
  },
  {
   "cell_type": "markdown",
   "id": "25711082-e553-45d3-ba6d-59e839ad1b21",
   "metadata": {},
   "source": [
    "**Add elements in the list\n",
    "append()\n",
    "insert()**"
   ]
  },
  {
   "cell_type": "code",
   "execution_count": 24,
   "id": "7c6f63a4-60a8-4b2b-8ab7-2a95fa1c9f3a",
   "metadata": {},
   "outputs": [
    {
     "name": "stdout",
     "output_type": "stream",
     "text": [
      "[12, 13, 16, 56, 78, 98, 65, 70]\n",
      "[12, 13, 16, 56, 78, 98, 65, 70, 1]\n",
      "[12, 13, 16, 56, 78, 98, 65, 70, 1, 2]\n",
      "[12, 13, 16, 100, 56, 78, 98, 65, 70, 1, 2]\n",
      "[1000, 12, 13, 16, 100, 56, 78, 98, 65, 70, 1, 2]\n",
      "[1000, 12, 13, 16, 100, 56, 78, 98, 65, 70, 1, 2, 2000]\n"
     ]
    }
   ],
   "source": [
    "l1=[12,13,16,56,78,98,65]\n",
    "l1.append(70)\n",
    "print(l1)\n",
    "l1.append(1)   #append add at last position\n",
    "print(l1)\n",
    "l1.append(2)\n",
    "print(l1)\n",
    "\n",
    "l1.insert(3,100)\n",
    "print(l1)           #insert helps to add on specific position via indexing.\n",
    "l1.insert(0,1000)\n",
    "print(l1)\n",
    "l1.insert(29,2000)  #if indexing put higher u will not get an error it will make a position at last place.\n",
    "print(l1)\n"
   ]
  },
  {
   "cell_type": "markdown",
   "id": "57b12172-3390-4e52-b402-1ea66d75e075",
   "metadata": {},
   "source": [
    "**Packing and Unpacking in list**"
   ]
  },
  {
   "cell_type": "code",
   "execution_count": 33,
   "id": "219ff848-fd4a-44f4-b6b0-4cf93947a081",
   "metadata": {},
   "outputs": [
    {
     "name": "stdout",
     "output_type": "stream",
     "text": [
      "[10, 22, 33, 45]\n",
      "10\n",
      "22\n",
      "33\n",
      "45\n",
      "10\n",
      "5\n"
     ]
    }
   ],
   "source": [
    "l1=[10,22,33,45]\n",
    "a,b,c,d=l1  #unpacking\n",
    "print(l1)\n",
    "print(a)\n",
    "print(b)\n",
    "print(c)\n",
    "print(d)\n",
    "print(l1[0])\n",
    "\n",
    "a=5\n",
    "b=6\n",
    "c=10\n",
    "l2=[a,b,c]      #packing\n",
    "print(l2[0])   #number of variable should be same as number of elements."
   ]
  },
  {
   "cell_type": "markdown",
   "id": "78a7bd2a-6240-4641-a41d-bf5b857e76e2",
   "metadata": {},
   "source": [
    "**Built -In - Methods in list**"
   ]
  },
  {
   "cell_type": "code",
   "execution_count": 44,
   "id": "771b8b23-e871-4fde-8256-766215ec46b9",
   "metadata": {},
   "outputs": [
    {
     "name": "stdout",
     "output_type": "stream",
     "text": [
      "7\n",
      "10\n",
      "55\n",
      "177\n",
      "[10, 11, 12, 22, 23, 44, 55]\n",
      "[12, 11, 10, 22, 23, 44, 55]\n",
      "3\n",
      "(17.5+4j)\n"
     ]
    }
   ],
   "source": [
    "l1=[12,11,10,22,23,44,55]\n",
    "print(len(l1))\n",
    "print(min(l1))\n",
    "print(max(l1))\n",
    "print(sum(l1))\n",
    "print(sorted(l1)) #Always return list when we print sorted method.\n",
    "        #l1 will not change only return sorted value.if you will print l1 again you will found same l1.\n",
    "print(l1)\n",
    "\n",
    "l2=[10,4.5,3+4j]#type error,can't compare complex and int.\n",
    "print(len(l2))#len & sum is okk but when you put str u will get an error,can't add str with int or complex.\n",
    "print(sum(l2))\n"
   ]
  },
  {
   "cell_type": "markdown",
   "id": "8d493809-a62a-4067-9023-de98b2e0065f",
   "metadata": {},
   "source": [
    "**list()Method**"
   ]
  },
  {
   "cell_type": "code",
   "execution_count": 48,
   "id": "522052d7-f235-4aa7-b84c-ea6d6d218cec",
   "metadata": {},
   "outputs": [
    {
     "name": "stdout",
     "output_type": "stream",
     "text": [
      "[]\n",
      "[0, 1, 2, 3]\n",
      "['m', 'y', 's', 'i', 'r', 'g']\n"
     ]
    }
   ],
   "source": [
    "l1=list()\n",
    "print(l1) #Empty can pass.\n",
    "#l1=list(10) #It is int, we have to pass iterable but only one argument will be pass.('mysirg')It is str and iterable.\n",
    "#l1=(10,20,30)'''It will also get an error bcz only one arugument will be pass.so correct method is\n",
    "l1=list(range(4))#this is right method to put value.\n",
    "print(l1)\n",
    "l1=list('mysirg')\n",
    "print(l1)\n"
   ]
  },
  {
   "cell_type": "markdown",
   "id": "c0667251-3659-4443-9c96-6c4aa1a5ff7c",
   "metadata": {},
   "source": [
    "**Comprasion operators on list**"
   ]
  },
  {
   "cell_type": "code",
   "execution_count": 54,
   "id": "08a86498-d86b-49e2-b57c-e2d2b9bb6ebb",
   "metadata": {},
   "outputs": [
    {
     "name": "stdout",
     "output_type": "stream",
     "text": [
      "False\n",
      "False\n",
      "True\n",
      "False\n",
      "False\n",
      "True\n"
     ]
    }
   ],
   "source": [
    "l1=[1,2,3]\n",
    "l2=[2,3,1]\n",
    "print(l1==l2)#it is getting false bcz crossponding value donot match.\n",
    "l3=[1,2,3,4,5]\n",
    "print(l1==l3)# It will also get false bcz l3 has enough element.\n",
    "l4=[1,2,3]\n",
    "print(l1==l4) #It is getting True bcz crossponding has matched.\n",
    "print(l1>l2)# check first value if matching,first comparision is enough\n",
    "print(l1>l4)\n",
    "print(l1==l4)"
   ]
  },
  {
   "cell_type": "markdown",
   "id": "7a5d4e3a-84b7-446c-ae41-821f0639bb48",
   "metadata": {},
   "source": [
    "**Concatination operators on list**"
   ]
  },
  {
   "cell_type": "markdown",
   "id": "7473ceb9-9725-486b-b63d-6bebbfaa0c53",
   "metadata": {},
   "source": [
    "l1=[1,5,9]\n",
    "l2=[2,3,1]\n",
    "l3=l1+l2 #Concatination of list\n",
    "#l1+=l2u can also write.\n",
    "print(l3)\n"
   ]
  },
  {
   "cell_type": "markdown",
   "id": "1e024523-3f3d-431a-b4af-a877cceac76e",
   "metadata": {},
   "source": [
    "**Reptation Operators in List**"
   ]
  },
  {
   "cell_type": "code",
   "execution_count": 60,
   "id": "b16319c3-508b-4a05-9039-a6f0d65cbb71",
   "metadata": {},
   "outputs": [
    {
     "name": "stdout",
     "output_type": "stream",
     "text": [
      "[2, 3, 4, 2, 3, 4, 2, 3, 4, 2, 3, 4, 2, 3, 4]\n"
     ]
    }
   ],
   "source": [
    "l1=[2,3,4]\n",
    "l1*5 # we can make reptation by one list and one int.\n",
    "l2=l1*5 #we can store value by creating new variable.\n",
    "print(l2)#[11,22]*[11,22] can't make reptation.\n",
    "#[11,22]*3.5 will get an error."
   ]
  },
  {
   "cell_type": "markdown",
   "id": "3ccc5179-ce2e-4a3b-8850-dd1c7a8f03d3",
   "metadata": {},
   "source": [
    "**List of List**"
   ]
  },
  {
   "cell_type": "code",
   "execution_count": null,
   "id": "ee5cbd24-670b-4a74-9536-642f6482b7fd",
   "metadata": {},
   "outputs": [],
   "source": [
    "l1=[[1,2,3],[2,1,8],[5,4,4]]\n",
    "print(l1[0])\n",
    "print(l1[1])\n",
    "print(l1[2])\n",
    "print(l1[0][1])   #indexing outer[0,1,2]\n",
    "print(l1[1][2])   #indexing inner[0][1]\n",
    "print(l1[2][2])\n",
    "print(l1[0][1])"
   ]
  },
  {
   "cell_type": "markdown",
   "id": "ccb2167d-e671-4f13-b222-988b57c7c207",
   "metadata": {},
   "source": [
    "**List Object Method**"
   ]
  },
  {
   "cell_type": "code",
   "execution_count": 100,
   "id": "a4ec99de-d549-4852-b7df-f61640fc2930",
   "metadata": {},
   "outputs": [
    {
     "name": "stdout",
     "output_type": "stream",
     "text": [
      "[50, 20, 45, 100, 90, 90, 70, 60, 1000]\n",
      "[50, 20, 45, 100, 2000, 90, 90, 70, 60, 1000]\n",
      "[50, 20, 45, 2000, 90, 90, 70, 60, 1000]\n",
      "[50, 20, 45, 2000, 90, 90, 70, 60]\n",
      "[50, 20, 45, 2000, 90, 90, 70]\n",
      "60\n",
      "60\n",
      "[]\n",
      "[]\n",
      "[]\n",
      "[50, 20, 45, 2000, 90, 90, 70]\n",
      "[70, 90, 90, 2000, 45, 20, 50]\n",
      "3\n",
      "1\n",
      "[70, 90, 90, 2000, 45, 20, 50]\n",
      "[20, 45, 50, 70, 90, 90, 2000]\n"
     ]
    }
   ],
   "source": [
    "l1=[50,20,45,100,90,90,70,60]\n",
    "l1.append(1000)\n",
    "print(l1)\n",
    "\n",
    "l1.insert(4,2000)\n",
    "print(l1)\n",
    "\n",
    "\n",
    "l1.remove(100)#l1 remove 1st 100 from left to right,It will not remove all repatation.\n",
    "print(l1)  #if you will remove unavilable value, u will get an error.\n",
    "\n",
    "x=l1.pop()\n",
    "print(l1)   #here we can delete data but we also store deleted data in x variable\n",
    "x=l1.pop()   #it will remove last value from list.\n",
    "print(l1)\n",
    "print(x)\n",
    "print(x)\n",
    "\n",
    "print(l3)\n",
    "print(l3)  #It will clear whole list and return empty list.\n",
    "l3.clear()\n",
    "print(l3)\n",
    "\n",
    "\n",
    "\n",
    "print(l1)\n",
    "l1.reverse()  #It will reverse the list value.\n",
    "print(l1)\n",
    "\n",
    "\n",
    "\n",
    "i=l1.index(2000) #we can store it in a variable\n",
    "print(i)         #If we call unavilable value from list for index, will get an error.\n",
    "\n",
    "\n",
    "i=l1.count(90)  #How many times of appearing of 90,50 in list.\n",
    "x=l1.count(50)\n",
    "print(x)\n",
    "\n",
    "\n",
    "\n",
    "print(l1)#No need of call with dot(.)\n",
    "sorted(l1) #sorting in ascending order\n",
    "sorted(l1,reverse=True) #In descending order.\n",
    "                  #It is not a method of class list.\n",
    "#Not change in l1 but sorted function make a new list &will keep l1 in new sorted list,not change in l1 list value.\n",
    "\n",
    "\n",
    "l1.sort() # it is a method of list class,above crateria in positive form.\n",
    "print(l1)\n"
   ]
  },
  {
   "cell_type": "markdown",
   "id": "0b9daf09-a27d-4d67-ba90-47081981bbf9",
   "metadata": {},
   "source": [
    "**List comprehension**"
   ]
  },
  {
   "cell_type": "markdown",
   "id": "04f14760-f748-449c-ade6-14d250f375a9",
   "metadata": {},
   "source": [
    " **Create a list of cubes of numbers from 1 to 10.**"
   ]
  },
  {
   "cell_type": "code",
   "execution_count": 103,
   "id": "38733514-f779-4378-9523-f1b682b2c47c",
   "metadata": {},
   "outputs": [
    {
     "name": "stdout",
     "output_type": "stream",
     "text": [
      "[1, 8, 27, 64, 125, 216, 343, 512, 729, 1000]\n"
     ]
    }
   ],
   "source": [
    "cube=[x**3 for x in range(1,11)]\n",
    "print(cube)"
   ]
  },
  {
   "cell_type": "markdown",
   "id": "a6157c8e-bace-48cb-a9c4-fb5ccaf3fc4b",
   "metadata": {},
   "source": [
    "**Extract all vowels from the string \"programming\".**"
   ]
  },
  {
   "cell_type": "code",
   "execution_count": null,
   "id": "8a12f0f6-aa3a-4ff9-8b88-48c3a1eeda60",
   "metadata": {},
   "outputs": [],
   "source": []
  }
 ],
 "metadata": {
  "kernelspec": {
   "display_name": "Python [conda env:base] *",
   "language": "python",
   "name": "conda-base-py"
  },
  "language_info": {
   "codemirror_mode": {
    "name": "ipython",
    "version": 3
   },
   "file_extension": ".py",
   "mimetype": "text/x-python",
   "name": "python",
   "nbconvert_exporter": "python",
   "pygments_lexer": "ipython3",
   "version": "3.13.5"
  }
 },
 "nbformat": 4,
 "nbformat_minor": 5
}
