{
 "cells": [
  {
   "cell_type": "markdown",
   "id": "531797b4-ccb3-4881-bbcd-00196ff0fd82",
   "metadata": {},
   "source": [
    "**Set In Python**"
   ]
  },
  {
   "cell_type": "markdown",
   "id": "2b9d1857-50dd-44a9-8eec-fbb70a1e5a00",
   "metadata": {},
   "source": [
    "**Creating set Object**"
   ]
  },
  {
   "cell_type": "code",
   "execution_count": 3,
   "id": "509dce8c-952b-4bb2-846e-c5c993685579",
   "metadata": {},
   "outputs": [
    {
     "name": "stdout",
     "output_type": "stream",
     "text": [
      "{8, 10, 2}\n",
      "{'i', 'r', 's', 'g', 'M', 'y'}\n"
     ]
    }
   ],
   "source": [
    "s1={1,2,4,6}\n",
    "type(s1)\n",
    "s1={10,2,8,10,10,8}#Dont give an error,it will remove duplicate value.\n",
    "print(s1)\n",
    "s1={}#It is not a empty set,It is empty dict{}\n",
    "s1=set()#This is the way to make empty set. we can pass only one value that should be iterable not int.\n",
    "#s1=set([1,2,3])Type Error:\n",
    "#set(10)Type error,plz dont pass int, pass value should be iterable.\n",
    "s1=set(\"Mysirg\")\n",
    "print(s1)"
   ]
  },
  {
   "cell_type": "markdown",
   "id": "31901258-ea09-4515-8718-f0c464089bd7",
   "metadata": {},
   "source": [
    "**write a python script to remove duplicate elements from a list**"
   ]
  },
  {
   "cell_type": "code",
   "execution_count": 5,
   "id": "b811b8ad-1265-4004-bead-8219e23618cf",
   "metadata": {},
   "outputs": [
    {
     "name": "stdin",
     "output_type": "stream",
     "text": [
      "Enter Number Seprated by comma 10,20,10,20,30,30\n"
     ]
    },
    {
     "name": "stdout",
     "output_type": "stream",
     "text": [
      "[10, 20, 30]\n"
     ]
    }
   ],
   "source": [
    "\n",
    "l1=list(set([int(x)for x in input(\"Enter Number Seprated by comma\").split(',')]))\n",
    "print(l1)"
   ]
  },
  {
   "cell_type": "markdown",
   "id": "7641219c-82d7-4bfc-b1df-bb40ee57e90b",
   "metadata": {},
   "source": [
    "**Accessing The Set Element**"
   ]
  },
  {
   "cell_type": "code",
   "execution_count": 6,
   "id": "57e01d79-3fa0-4fa2-b0b6-df1b32aea044",
   "metadata": {},
   "outputs": [
    {
     "name": "stdout",
     "output_type": "stream",
     "text": [
      "40\n",
      "10\n",
      "20\n",
      "30\n"
     ]
    }
   ],
   "source": [
    "s2={40,10,20,30}# here is no concept of indexing so we can access thses element via for loop.\n",
    "for i in s2:\n",
    "    print(i)"
   ]
  },
  {
   "cell_type": "markdown",
   "id": "60cd5857-66bf-4d44-b847-e157a02ad40c",
   "metadata": {},
   "source": [
    "**Built_In-Method**"
   ]
  },
  {
   "cell_type": "code",
   "execution_count": 13,
   "id": "775f788f-9f03-4057-ac05-b11ed0ddf72c",
   "metadata": {},
   "outputs": [
    {
     "data": {
      "text/plain": [
       "[40, 30, 20, 10]"
      ]
     },
     "execution_count": 13,
     "metadata": {},
     "output_type": "execute_result"
    }
   ],
   "source": [
    "s4={40,10,20,30}\n",
    "len(s4)\n",
    "min(s4)\n",
    "max(s4)\n",
    "sum(s4)\n",
    "sorted(s4)#sorted function always return list\n",
    "sorted(s4,reverse=True)"
   ]
  },
  {
   "cell_type": "markdown",
   "id": "794a3594-beac-4295-b130-bc35b69eaea1",
   "metadata": {},
   "source": [
    "**Concatination And Reptation**"
   ]
  },
  {
   "cell_type": "code",
   "execution_count": 14,
   "id": "9870188a-57bd-41f5-b417-49294d30756b",
   "metadata": {},
   "outputs": [],
   "source": [
    "# Concatination and reptation Not Allowed In Set \n"
   ]
  },
  {
   "cell_type": "markdown",
   "id": "7b631c60-c072-4c38-bf83-ff0a28c07351",
   "metadata": {},
   "source": [
    "**Comparision Operator**"
   ]
  },
  {
   "cell_type": "code",
   "execution_count": 16,
   "id": "1cbedfe7-ec6d-4409-b30a-ee8e940226f6",
   "metadata": {},
   "outputs": [
    {
     "name": "stdout",
     "output_type": "stream",
     "text": [
      "True\n"
     ]
    },
    {
     "data": {
      "text/plain": [
       "False"
      ]
     },
     "execution_count": 16,
     "metadata": {},
     "output_type": "execute_result"
    }
   ],
   "source": [
    "s1={4,5,6}\n",
    "s2={6,5,4}\n",
    "print(s1==s2)\n",
    "s1>s2"
   ]
  },
  {
   "cell_type": "markdown",
   "id": "2b642f3d-e818-4bb7-86a3-109942e5a600",
   "metadata": {},
   "source": [
    "**Set Object Method**"
   ]
  },
  {
   "cell_type": "code",
   "execution_count": 35,
   "id": "4c729e6a-ddac-422d-a809-84b0ea93da15",
   "metadata": {},
   "outputs": [
    {
     "data": {
      "text/plain": [
       "True"
      ]
     },
     "execution_count": 35,
     "metadata": {},
     "output_type": "execute_result"
    }
   ],
   "source": [
    "s4={40,10,20,30,}\n",
    "s4.add(60)# we can add single digit by add()function\n",
    "s4\n",
    "s4.add(100) # If we add tuple or any iterable it will add tuble as a single (2,3,4)element\n",
    "s4\n",
    "\n",
    "\n",
    "s4.update((10,20,100)) #Update function will take only single argument but should be iterable not int.Here I put single set of tuple.\n",
    "s4\n",
    "# If we add (2,3,4,)tuple add with update () it will make an element of this value 2,3,4\n",
    "s4.remove(100) #U will get an error when u call unavilable value in set.\n",
    "s4\n",
    "s4.discard(30)#Do not give an error and not delete any thing this is difference between remove() and discard()\n",
    "\n",
    "s4\n",
    "\n",
    "\n",
    "s4.pop()#Delete in a sequence from start to end one by one from this function.\n",
    "\n",
    "s4.clear()#It makes an empty set.\n",
    "s4\n",
    "\n",
    "s5={46,55,77,88}\n",
    "s6={46,88,33,22}    #It gives common digit. It returns set in both s5 and s6.\n",
    "s5.intersection(s6)\n",
    "\n",
    "s5.union(s6) # It will remove common value or duplicate from both variable and return pure value .\n",
    "\n",
    "s7={8,1,5}\n",
    "s8={1,5,8,10,}\n",
    "s7.issubset(s8) \n",
    "s8.issuperset(s7)\n",
    "\n",
    "\n"
   ]
  }
 ],
 "metadata": {
  "kernelspec": {
   "display_name": "Python [conda env:base] *",
   "language": "python",
   "name": "conda-base-py"
  },
  "language_info": {
   "codemirror_mode": {
    "name": "ipython",
    "version": 3
   },
   "file_extension": ".py",
   "mimetype": "text/x-python",
   "name": "python",
   "nbconvert_exporter": "python",
   "pygments_lexer": "ipython3",
   "version": "3.13.5"
  }
 },
 "nbformat": 4,
 "nbformat_minor": 5
}
