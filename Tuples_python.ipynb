{
 "cells": [
  {
   "cell_type": "markdown",
   "id": "de508525-0a5a-42dc-a8e6-68d4aa02d0c3",
   "metadata": {},
   "source": [
    "**Tuples in Python**"
   ]
  },
  {
   "cell_type": "markdown",
   "id": "c7097f69-70e4-4303-9f90-bcf5d14b7cf6",
   "metadata": {},
   "source": [
    "**Creation of Tuple Object**"
   ]
  },
  {
   "cell_type": "code",
   "execution_count": 1,
   "id": "31ac2e30-68f9-448d-8185-6a9a9484289d",
   "metadata": {},
   "outputs": [
    {
     "data": {
      "text/plain": [
       "tuple"
      ]
     },
     "execution_count": 1,
     "metadata": {},
     "output_type": "execute_result"
    }
   ],
   "source": [
    "t1=(1,2,3,5,7)\n",
    "type(t1)\n",
    "t1=() #Empty Tuple\n",
    "t1=(2,)#If u put single digit in tuple keep comma atleast,otherwise it will be int\n",
    "t1=11,6,3,10, #It is also tuple we can write tuple without ()Parenthesis.\n",
    "#u can keep comma at last."
   ]
  },
  {
   "cell_type": "markdown",
   "id": "0db6a86a-a784-48c1-ad51-14709aab711c",
   "metadata": {},
   "source": [
    "**Indexing in Tuples**"
   ]
  },
  {
   "cell_type": "code",
   "execution_count": 7,
   "id": "6015f9b3-12c6-4529-b704-d0cab8bc6be3",
   "metadata": {},
   "outputs": [
    {
     "data": {
      "text/plain": [
       "40"
      ]
     },
     "execution_count": 7,
     "metadata": {},
     "output_type": "execute_result"
    }
   ],
   "source": [
    "t1=(10,20,30,40)\n",
    "t1[0]\n",
    "t1[1]\n",
    "t1[2]\n",
    "t1[3]\n",
    "#t1[4] if u will access unavilable index u will get an error.\n"
   ]
  },
  {
   "cell_type": "markdown",
   "id": "943f573f-5c61-4ad1-a1cb-c148c54183df",
   "metadata": {},
   "source": [
    "**Accessing Tuples Elements**\n"
   ]
  },
  {
   "cell_type": "code",
   "execution_count": 9,
   "id": "7b60a396-4621-4211-b128-dbbe370657de",
   "metadata": {},
   "outputs": [
    {
     "name": "stdout",
     "output_type": "stream",
     "text": [
      "20\n",
      "30\n",
      "40\n",
      "50\n"
     ]
    }
   ],
   "source": [
    "t1=(20,30,40,50,)\n",
    "#print(t1[0]) #Access through print function and indexing\n",
    "i=0\n",
    "while (i<len(t1)):\n",
    "    print(t1[i])\n",
    "    i+=1"
   ]
  },
  {
   "cell_type": "code",
   "execution_count": 10,
   "id": "2f56407d-4510-4a98-b6e3-c4f4a9b631c0",
   "metadata": {},
   "outputs": [
    {
     "name": "stdout",
     "output_type": "stream",
     "text": [
      "20\n",
      "30\n",
      "40\n",
      "50\n"
     ]
    }
   ],
   "source": [
    "for a in t1:\n",
    "    print(a)"
   ]
  },
  {
   "cell_type": "markdown",
   "id": "f9516f66-ede3-4fe9-81f9-819ea942d659",
   "metadata": {},
   "source": [
    "**Built-In-Method**"
   ]
  },
  {
   "cell_type": "code",
   "execution_count": 16,
   "id": "263d43b4-753b-4daa-b481-4d3c0ac85c73",
   "metadata": {},
   "outputs": [
    {
     "data": {
      "text/plain": [
       "[50, 40, 30, 20, 10]"
      ]
     },
     "execution_count": 16,
     "metadata": {},
     "output_type": "execute_result"
    }
   ],
   "source": [
    "l1=(10,20,30,40,50,)\n",
    "len(l1)\n",
    "min(l1)\n",
    "max(l1)\n",
    "sum(l1)\n",
    "sorted(l1)\n",
    "sorted(l1,reverse=True)\n"
   ]
  },
  {
   "cell_type": "markdown",
   "id": "a6441eb5-235a-4063-96e6-a9bf75e586f3",
   "metadata": {},
   "source": [
    "**Concatination & Repetation Operators**"
   ]
  },
  {
   "cell_type": "code",
   "execution_count": 22,
   "id": "208228d5-0292-46b7-b646-e6ba2025281f",
   "metadata": {},
   "outputs": [
    {
     "data": {
      "text/plain": [
       "(10, 20, 10, 20, 10, 20)"
      ]
     },
     "execution_count": 22,
     "metadata": {},
     "output_type": "execute_result"
    }
   ],
   "source": [
    "t1=(10,20,)\n",
    "t2=(11,22,33,)\n",
    "(t1+t2)#concatination\n",
    "t1*3#Repetation"
   ]
  },
  {
   "cell_type": "markdown",
   "id": "fe5eb0ad-669f-4cb6-9c75-49a4f5a1ea73",
   "metadata": {},
   "source": [
    "**Comparison Operators**"
   ]
  },
  {
   "cell_type": "code",
   "execution_count": 24,
   "id": "b10a6a44-1485-464e-b003-ac27de43d58c",
   "metadata": {},
   "outputs": [
    {
     "name": "stdout",
     "output_type": "stream",
     "text": [
      "False\n"
     ]
    },
    {
     "data": {
      "text/plain": [
       "True"
      ]
     },
     "execution_count": 24,
     "metadata": {},
     "output_type": "execute_result"
    }
   ],
   "source": [
    "t1=(10,20,)\n",
    "t2=11,33,35  #Comparison up and down pair\n",
    "print(t1>t2)\n",
    "t2>t1"
   ]
  },
  {
   "cell_type": "markdown",
   "id": "57c81f8f-a355-4943-8a5e-770888b717a4",
   "metadata": {},
   "source": [
    "**Tuple Object Method**"
   ]
  },
  {
   "cell_type": "code",
   "execution_count": 28,
   "id": "54981e43-3706-4217-acf6-9a78e2c1c6ed",
   "metadata": {},
   "outputs": [
    {
     "data": {
      "text/plain": [
       "1"
      ]
     },
     "execution_count": 28,
     "metadata": {},
     "output_type": "execute_result"
    }
   ],
   "source": [
    "t1=1,2,3,5,7,\n",
    "t1.index(7) # show index of number\n",
    "t1.count(5)#How many times repetating same digit\n"
   ]
  },
  {
   "cell_type": "markdown",
   "id": "7774df8c-8b2b-4b7d-9af5-5770c70a3698",
   "metadata": {},
   "source": [
    "**Slicing Operators**"
   ]
  },
  {
   "cell_type": "code",
   "execution_count": 30,
   "id": "1a7483f9-6eaa-467e-9096-fc70997d8842",
   "metadata": {},
   "outputs": [
    {
     "data": {
      "text/plain": [
       "(3, 9, 3)"
      ]
     },
     "execution_count": 30,
     "metadata": {},
     "output_type": "execute_result"
    }
   ],
   "source": [
    "t1=(10,4,3,2,9,1,3,4,5,)\n",
    "t1[2:8:2]"
   ]
  },
  {
   "cell_type": "code",
   "execution_count": null,
   "id": "466c4f19-c1d4-4d54-8aec-2aa9ae316a47",
   "metadata": {},
   "outputs": [],
   "source": []
  }
 ],
 "metadata": {
  "kernelspec": {
   "display_name": "Python [conda env:base] *",
   "language": "python",
   "name": "conda-base-py"
  },
  "language_info": {
   "codemirror_mode": {
    "name": "ipython",
    "version": 3
   },
   "file_extension": ".py",
   "mimetype": "text/x-python",
   "name": "python",
   "nbconvert_exporter": "python",
   "pygments_lexer": "ipython3",
   "version": "3.13.5"
  }
 },
 "nbformat": 4,
 "nbformat_minor": 5
}
