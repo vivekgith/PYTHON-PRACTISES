{
 "cells": [
  {
   "cell_type": "markdown",
   "id": "1495f402-ea1f-43e5-9d48-4fa2e0b8acd4",
   "metadata": {},
   "source": [
    "**Functions In Python**"
   ]
  },
  {
   "cell_type": "code",
   "execution_count": 1,
   "id": "f0527020-640b-4494-8128-91d8ce48f240",
   "metadata": {},
   "outputs": [
    {
     "name": "stdout",
     "output_type": "stream",
     "text": [
      "Enter a Number\n"
     ]
    },
    {
     "name": "stdin",
     "output_type": "stream",
     "text": [
      " 22\n"
     ]
    },
    {
     "name": "stdout",
     "output_type": "stream",
     "text": [
      "1 \n",
      "4 \n",
      "9 \n",
      "16 \n",
      "25 \n",
      "36 \n",
      "49 \n",
      "64 \n",
      "81 \n",
      "100 \n",
      "121 \n",
      "144 \n",
      "169 \n",
      "196 \n",
      "225 \n",
      "256 \n",
      "289 \n",
      "324 \n",
      "361 \n",
      "400 \n",
      "441 \n",
      "484 \n"
     ]
    }
   ],
   "source": [
    "def f1():\n",
    "    print(\"Enter a Number\")\n",
    "    n=int(input())          #Once function is defined it can be called any no of times.\n",
    "    for e in range(1,n+1):\n",
    "        print(e**2,end=' ')\n",
    "        print()\n",
    "f1()#Function call        "
   ]
  },
  {
   "cell_type": "markdown",
   "id": "c519c379-d126-4885-9caa-c642650ab14e",
   "metadata": {},
   "source": [
    "**KeyWord_Arguments**"
   ]
  },
  {
   "cell_type": "code",
   "execution_count": 2,
   "id": "e7755c10-3ad7-4788-8cd1-860bbab0629f",
   "metadata": {},
   "outputs": [
    {
     "name": "stdout",
     "output_type": "stream",
     "text": [
      "Sum is 12\n",
      "Sum is 12\n"
     ]
    }
   ],
   "source": [
    "def f1(a,b,c=0):# The deafult value is assigned by using tha assignment operator(=).\n",
    "                # you cannot use nondeafult arguments after deafult arguments.\n",
    "    d=a+b+c     \n",
    "    print(\"Sum is\",d)\n",
    "f1(2,10)\n",
    "f1(b=2,a=10)# keyword Argument."
   ]
  },
  {
   "cell_type": "markdown",
   "id": "2d9e9d70-5d91-4ca0-85a6-183e4ff67a66",
   "metadata": {},
   "source": [
    "**Takes Nothing Return Nothing**"
   ]
  },
  {
   "cell_type": "code",
   "execution_count": 3,
   "id": "dcde93a8-7f59-43af-8214-d08102be931c",
   "metadata": {},
   "outputs": [
    {
     "name": "stdout",
     "output_type": "stream",
     "text": [
      "Enter two Numbers\n"
     ]
    },
    {
     "name": "stdin",
     "output_type": "stream",
     "text": [
      " 22\n",
      " 22\n"
     ]
    },
    {
     "name": "stdout",
     "output_type": "stream",
     "text": [
      "sum is 44\n"
     ]
    }
   ],
   "source": [
    "def add(): # If the parenthsis is empty, it keeps nature of (\"Take Nothing\") & when we call function it will reamin empty(add()).\n",
    "    print(\"Enter two Numbers\")\n",
    "    a=int(input())\n",
    "    b=int(input()) #There is no return keyword in the body of code so, it keeps nature of (\"Return Nothing\")\n",
    "    c=a+b\n",
    "    print(\"sum is\",c)\n",
    "add()    #Fumction call"
   ]
  },
  {
   "cell_type": "markdown",
   "id": "85650ac6-2ec9-4a05-a270-95a7b0cb8abd",
   "metadata": {},
   "source": [
    "**Take something Return Nothing**"
   ]
  },
  {
   "cell_type": "code",
   "execution_count": 4,
   "id": "a11c899c-3b8b-4a4a-b01d-1e02a8f305ca",
   "metadata": {},
   "outputs": [
    {
     "name": "stdout",
     "output_type": "stream",
     "text": [
      "Sum is 30\n"
     ]
    }
   ],
   "source": [
    "def add(a,b):#Take something.#Formal Arguments or Parameters.\n",
    "    c=a+b\n",
    "    print(\"Sum is\",c)#There is no return keyword,so it is return nothing.\n",
    "add(10,20) #Function call #Actual Arguments.  "
   ]
  },
  {
   "cell_type": "markdown",
   "id": "2bf051c7-d40f-44d4-89ed-969b4e911033",
   "metadata": {},
   "source": [
    "**Take Nothing,Return something**\n"
   ]
  },
  {
   "cell_type": "code",
   "execution_count": 5,
   "id": "7afcfe6c-1b72-4641-bd26-6d2dbbfc5bb0",
   "metadata": {},
   "outputs": [
    {
     "name": "stdout",
     "output_type": "stream",
     "text": [
      "Enter a Number:\n"
     ]
    },
    {
     "name": "stdin",
     "output_type": "stream",
     "text": [
      " 22\n",
      " 22\n"
     ]
    },
    {
     "name": "stdout",
     "output_type": "stream",
     "text": [
      "Sum is 44\n"
     ]
    }
   ],
   "source": [
    "def add():\n",
    "    print(\"Enter a Number:\")\n",
    "    a=int(input())\n",
    "    b=int(input())\n",
    "    c=a+b\n",
    "    return c #Return c store in sum.\n",
    "sum=add()\n",
    "print(\"Sum is\",sum)"
   ]
  },
  {
   "cell_type": "markdown",
   "id": "71dfeeb5-60a1-4832-a542-f48a1cc8fbcd",
   "metadata": {},
   "source": [
    "**Take something Return Something**"
   ]
  },
  {
   "cell_type": "code",
   "execution_count": 6,
   "id": "22096bf0-a486-41bf-8e60-ed512ecf0fb5",
   "metadata": {},
   "outputs": [
    {
     "name": "stdout",
     "output_type": "stream",
     "text": [
      "30\n"
     ]
    }
   ],
   "source": [
    "def add(a,b):#Take something \n",
    "    c=a+b\n",
    "    return c#Return something.\n",
    "x=add(10,20)\n",
    "print(x)"
   ]
  },
  {
   "cell_type": "markdown",
   "id": "7ac991e4-66f3-47a6-a0c4-1c72fc82ebb2",
   "metadata": {},
   "source": [
    "                                **Some Basics Questions Of Function()**"
   ]
  },
  {
   "cell_type": "markdown",
   "id": "11b55101-508d-4816-90fe-2bc8f339b0c0",
   "metadata": {},
   "source": [
    "**Write a function to print \"Hello, World!\".**"
   ]
  },
  {
   "cell_type": "code",
   "execution_count": 7,
   "id": "34b30791-4b67-4f0d-8731-6bcb3e8663e7",
   "metadata": {},
   "outputs": [
    {
     "name": "stdout",
     "output_type": "stream",
     "text": [
      "Hello,World!\n"
     ]
    }
   ],
   "source": [
    "def greetings ():\n",
    "    print(\"Hello,World!\")\n",
    "greetings()    "
   ]
  },
  {
   "cell_type": "markdown",
   "id": "0ed41c6a-a563-4ed9-87c5-8610b58ada18",
   "metadata": {},
   "source": [
    "**Write a function that takes a name as input and returns \"Hello, <name>\"**"
   ]
  },
  {
   "cell_type": "code",
   "execution_count": 8,
   "id": "fd7fc0fb-d777-453c-932d-73504a062901",
   "metadata": {},
   "outputs": [
    {
     "name": "stdout",
     "output_type": "stream",
     "text": [
      "Hello, Vivek\n"
     ]
    }
   ],
   "source": [
    "def greet(name):\n",
    "    return \"Hello, \" + name\n",
    "print(greet(\"Vivek\"))\n"
   ]
  },
  {
   "cell_type": "markdown",
   "id": "88f53c75-c6cd-4a7b-a7e3-278bb6b45862",
   "metadata": {},
   "source": [
    "**Write a function that takes two numbers and returns their sum.**"
   ]
  },
  {
   "cell_type": "code",
   "execution_count": 9,
   "id": "980a89eb-d7ca-4835-a70c-0f50e84b9dfa",
   "metadata": {},
   "outputs": [
    {
     "name": "stdout",
     "output_type": "stream",
     "text": [
      "The sum of 50\n"
     ]
    }
   ],
   "source": [
    "def f1 (a,b):\n",
    "    sum=a+b\n",
    "    print(\"The sum of\",sum)\n",
    "f1(20,30)    \n",
    "    \n",
    "\n",
    " "
   ]
  },
  {
   "cell_type": "markdown",
   "id": "857e723a-378f-4a2b-ba15-bba331086c3a",
   "metadata": {},
   "source": [
    "**Print even Number from 1 to 10**"
   ]
  },
  {
   "cell_type": "code",
   "execution_count": 10,
   "id": "c6ccd3a1-8409-4cca-94c8-1d037a9c7afa",
   "metadata": {},
   "outputs": [
    {
     "name": "stdout",
     "output_type": "stream",
     "text": [
      "2\n",
      "4\n",
      "6\n",
      "8\n",
      "10\n"
     ]
    }
   ],
   "source": [
    "def even_number():\n",
    "    for i in range(1,11):\n",
    "        if i%2==0:\n",
    "            print(i)\n",
    "even_number()        "
   ]
  },
  {
   "cell_type": "markdown",
   "id": "8687a46f-fc84-4bbd-81e8-fbc8c921b72a",
   "metadata": {},
   "source": [
    "**Hello world 5 times**"
   ]
  },
  {
   "cell_type": "code",
   "execution_count": 11,
   "id": "875e2849-3d52-4e54-8918-b60f9e4ab334",
   "metadata": {},
   "outputs": [
    {
     "name": "stdout",
     "output_type": "stream",
     "text": [
      "Hello World\n",
      "Hello World\n",
      "Hello World\n",
      "Hello World\n",
      "Hello World\n"
     ]
    }
   ],
   "source": [
    "def helloworld():\n",
    "    for i in range(5):\n",
    "        print(\"Hello World\")\n",
    "helloworld()    "
   ]
  },
  {
   "cell_type": "markdown",
   "id": "fab4559d-338d-4f78-8b77-fc1aacf20fa0",
   "metadata": {},
   "source": [
    "**Table of 5**"
   ]
  },
  {
   "cell_type": "code",
   "execution_count": 12,
   "id": "78ea8f62-0128-4131-ac09-4fef8af506e1",
   "metadata": {},
   "outputs": [
    {
     "name": "stdout",
     "output_type": "stream",
     "text": [
      "25\n",
      "55\n"
     ]
    }
   ],
   "source": [
    "def table_5():\n",
    "    for i in (5,11):\n",
    "        print(5*i)\n",
    "table_5()        "
   ]
  },
  {
   "cell_type": "code",
   "execution_count": 13,
   "id": "d5998df5-bada-407c-93f8-85597f0406ef",
   "metadata": {},
   "outputs": [
    {
     "name": "stdout",
     "output_type": "stream",
     "text": [
      "Table of five is 5\n",
      "Table of five is 10\n",
      "Table of five is 15\n",
      "Table of five is 20\n",
      "Table of five is 25\n",
      "Table of five is 30\n",
      "Table of five is 35\n",
      "Table of five is 40\n",
      "Table of five is 45\n",
      "Table of five is 50\n"
     ]
    }
   ],
   "source": [
    "def table_of_5():\n",
    "    # We want numbers 1 to 10\n",
    "    for number in range(1, 11):\n",
    "        result = 5 * number      # multiply 5 with current number\n",
    "        print(\"Table of five\", \"is\", result)\n",
    "\n",
    "# Call the function to see the table\n",
    "table_of_5()"
   ]
  },
  {
   "cell_type": "markdown",
   "id": "5d58c29e-3d42-421e-9519-eed626ef31e3",
   "metadata": {},
   "source": [
    "**Create a Function to add 3 Numbers**"
   ]
  },
  {
   "cell_type": "code",
   "execution_count": 14,
   "id": "1d935aeb-8ce8-4d03-8e31-e8c5c76bd930",
   "metadata": {},
   "outputs": [
    {
     "name": "stdout",
     "output_type": "stream",
     "text": [
      "The sum is 111\n"
     ]
    }
   ],
   "source": [
    "def add(a,b,c):\n",
    "    sum=a+b+c\n",
    "    print(\"The sum is\",sum)\n",
    "add(a=10,b=100,c=1)    "
   ]
  },
  {
   "cell_type": "code",
   "execution_count": null,
   "id": "0e67deec-1b2e-4d91-bfcb-48e20e94e4e3",
   "metadata": {},
   "outputs": [],
   "source": []
  }
 ],
 "metadata": {
  "kernelspec": {
   "display_name": "Python [conda env:base] *",
   "language": "python",
   "name": "conda-base-py"
  },
  "language_info": {
   "codemirror_mode": {
    "name": "ipython",
    "version": 3
   },
   "file_extension": ".py",
   "mimetype": "text/x-python",
   "name": "python",
   "nbconvert_exporter": "python",
   "pygments_lexer": "ipython3",
   "version": "3.13.5"
  }
 },
 "nbformat": 4,
 "nbformat_minor": 5
}
