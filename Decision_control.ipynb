{
 "cells": [
  {
   "cell_type": "markdown",
   "id": "4f9f7e3a-dee5-4f70-8a0d-4852d50cb52f",
   "metadata": {},
   "source": [
    "                                           **DECISION CONTROL**"
   ]
  },
  {
   "cell_type": "code",
   "execution_count": 1,
   "id": "f9a78bed-9315-4797-85a1-38601ef4f3e4",
   "metadata": {},
   "outputs": [
    {
     "name": "stdin",
     "output_type": "stream",
     "text": [
      "Enter a Number: 1\n"
     ]
    }
   ],
   "source": [
    "a=int(input(\"Enter a Number:\"))"
   ]
  },
  {
   "cell_type": "code",
   "execution_count": 2,
   "id": "3ea5118b-3458-4d4c-a64e-dc643da88470",
   "metadata": {},
   "outputs": [
    {
     "name": "stdout",
     "output_type": "stream",
     "text": [
      "Your age is: 1\n"
     ]
    }
   ],
   "source": [
    "print(\"Your age is:\",a)"
   ]
  },
  {
   "cell_type": "code",
   "execution_count": 3,
   "id": "4c41375c-ab80-41bf-b0eb-f08dd941a756",
   "metadata": {},
   "outputs": [
    {
     "name": "stdout",
     "output_type": "stream",
     "text": [
      "You cannot drive\n",
      "NO\n",
      "No python\n"
     ]
    }
   ],
   "source": [
    "if(a>18):\n",
    "    print(\"You can drive\")\n",
    "    print(\"Yes\")\n",
    "    print(\"Python\")\n",
    "else:\n",
    "    print(\"You cannot drive\")\n",
    "    print(\"NO\")\n",
    "    print(\"No python\")"
   ]
  },
  {
   "cell_type": "markdown",
   "id": "04b22a57-621f-4257-a94b-b9f308b883de",
   "metadata": {},
   "source": [
    "                                    **EVEN OR ODD**"
   ]
  },
  {
   "cell_type": "code",
   "execution_count": 4,
   "id": "b352e37f-b527-40e7-9248-73d8d8ed5b61",
   "metadata": {},
   "outputs": [
    {
     "name": "stdin",
     "output_type": "stream",
     "text": [
      "Enter a Number 22\n"
     ]
    }
   ],
   "source": [
    "b=int(input(\"Enter a Number\"))\n",
    "      "
   ]
  },
  {
   "cell_type": "code",
   "execution_count": 5,
   "id": "a8a963c8-7315-4a35-865b-145bcbc40b61",
   "metadata": {},
   "outputs": [
    {
     "name": "stdout",
     "output_type": "stream",
     "text": [
      "Even Number\n"
     ]
    }
   ],
   "source": [
    "if(b%2==0):\n",
    "    print(\"Even Number\")\n",
    "else:\n",
    "    print(\"Odd Number\")"
   ]
  },
  {
   "cell_type": "markdown",
   "id": "1b231e55-5a90-4db2-8025-6ddc115a530c",
   "metadata": {},
   "source": [
    "\n",
    "                                **POSITIVE, NEGATIVE, Zero**"
   ]
  },
  {
   "cell_type": "code",
   "execution_count": 6,
   "id": "a233c2e3-d1bd-4836-ac01-5aaa06e06096",
   "metadata": {},
   "outputs": [
    {
     "name": "stdin",
     "output_type": "stream",
     "text": [
      "Enter a Number 22\n"
     ]
    }
   ],
   "source": [
    "c=int(input(\"Enter a Number\"))\n",
    "      "
   ]
  },
  {
   "cell_type": "code",
   "execution_count": 7,
   "id": "70e5860b-fd59-4e04-bc89-15f1dd607df0",
   "metadata": {},
   "outputs": [
    {
     "name": "stdout",
     "output_type": "stream",
     "text": [
      "Positive\n"
     ]
    }
   ],
   "source": [
    "if(c>0):\n",
    "    print(\"Positive\")\n",
    "elif(c<0):\n",
    "    print(\"Negative\")\n",
    "else:\n",
    "    print(\"Zero\")\n"
   ]
  },
  {
   "cell_type": "markdown",
   "id": "760eb5bd-ce0b-4d4a-90ee-f9de8044a387",
   "metadata": {},
   "source": [
    "                              **Check Voting Eligibility**\n"
   ]
  },
  {
   "cell_type": "code",
   "execution_count": 8,
   "id": "d07d5386-5eee-4073-9585-415ef0610250",
   "metadata": {},
   "outputs": [
    {
     "name": "stdin",
     "output_type": "stream",
     "text": [
      "Enter a Number 22\n"
     ]
    }
   ],
   "source": [
    "age=int(input(\"Enter a Number\"))"
   ]
  },
  {
   "cell_type": "code",
   "execution_count": 9,
   "id": "4813c554-9d0a-4a29-9ef4-86d4068753a0",
   "metadata": {},
   "outputs": [
    {
     "name": "stdout",
     "output_type": "stream",
     "text": [
      "You are eligibile to vote\n"
     ]
    }
   ],
   "source": [
    "if(age>=18):\n",
    "   print(\"You are eligibile to vote\")\n",
    "else:\n",
    "    print(\"You are not eligible to vote\")\n",
    "\n",
    "    "
   ]
  },
  {
   "cell_type": "code",
   "execution_count": 10,
   "id": "8e6813e0-054a-40cb-a0f7-c591783358b4",
   "metadata": {},
   "outputs": [
    {
     "name": "stdin",
     "output_type": "stream",
     "text": [
      "Enter a Number  22\n"
     ]
    }
   ],
   "source": [
    "x=int(input(\"Enter a Number \"))\n",
    "\n"
   ]
  },
  {
   "cell_type": "code",
   "execution_count": 11,
   "id": "9a069fa1-abf7-4ff7-b365-46068e1ef565",
   "metadata": {},
   "outputs": [
    {
     "name": "stdout",
     "output_type": "stream",
     "text": [
      "Positive\n"
     ]
    }
   ],
   "source": [
    "if x>0:\n",
    "    print(\"Positive\")\n",
    "if x<=0:\n",
    "    print(\"NON Positive\")\n",
    "    "
   ]
  },
  {
   "cell_type": "code",
   "execution_count": 12,
   "id": "9be34015-510f-47fc-8e02-6a5499e1be3f",
   "metadata": {},
   "outputs": [
    {
     "name": "stdin",
     "output_type": "stream",
     "text": [
      "Enter a Number  22\n"
     ]
    }
   ],
   "source": [
    "x=int(input(\"Enter a Number \"))\n",
    "      "
   ]
  },
  {
   "cell_type": "code",
   "execution_count": 13,
   "id": "a4a16877-d336-40ea-9b62-d3c6abfe4cd9",
   "metadata": {},
   "outputs": [
    {
     "name": "stdout",
     "output_type": "stream",
     "text": [
      "Even Number\n"
     ]
    }
   ],
   "source": [
    "if x%2==0:\n",
    "    print(\"Even Number\")\n",
    "if x%2!=0:\n",
    "    print(\"Odd Number\" )\n",
    "    \n",
    "\n"
   ]
  },
  {
   "cell_type": "code",
   "execution_count": 14,
   "id": "16842a7b-0c7d-432e-a613-b71af5708a24",
   "metadata": {},
   "outputs": [
    {
     "name": "stdin",
     "output_type": "stream",
     "text": [
      "Enter a word : 22\n"
     ]
    }
   ],
   "source": [
    "word=input(\"Enter a word :\")"
   ]
  },
  {
   "cell_type": "code",
   "execution_count": 15,
   "id": "bea40967-4f2e-4372-b26a-c21e7460c89c",
   "metadata": {},
   "outputs": [
    {
     "name": "stdout",
     "output_type": "stream",
     "text": [
      "Not contain a letter in word\n"
     ]
    }
   ],
   "source": [
    "if 'a' in word:\n",
    "    print(\"Contains a letter in word\")\n",
    "else:\n",
    "    print(\"Not contain a letter in word\")"
   ]
  },
  {
   "cell_type": "code",
   "execution_count": 16,
   "id": "8b2be251-a4ca-4464-a278-648a52ae7a01",
   "metadata": {},
   "outputs": [
    {
     "name": "stdin",
     "output_type": "stream",
     "text": [
      "Enter a number : 22\n"
     ]
    }
   ],
   "source": [
    "x=int(input(\"Enter a number :\"))"
   ]
  },
  {
   "cell_type": "code",
   "execution_count": 17,
   "id": "096a6386-9a49-4b87-b8b0-903a2b48022f",
   "metadata": {},
   "outputs": [
    {
     "name": "stdout",
     "output_type": "stream",
     "text": [
      "Not divisible\n"
     ]
    }
   ],
   "source": [
    "if (x%3==0):\n",
    "    print(\"Yes divisible\")\n",
    "if (x%3!=0):\n",
    "    print(\"Not divisible\")\n",
    "    "
   ]
  },
  {
   "cell_type": "code",
   "execution_count": 18,
   "id": "0f2f263a-1c5a-492d-8184-b9c40ba47829",
   "metadata": {},
   "outputs": [
    {
     "name": "stdin",
     "output_type": "stream",
     "text": [
      "Enter a Number : 22\n"
     ]
    }
   ],
   "source": [
    "x=int(input(\"Enter a Number :\"))\n",
    "      "
   ]
  },
  {
   "cell_type": "code",
   "execution_count": 19,
   "id": "c771e13e-db1a-4c66-8633-da345ad56c63",
   "metadata": {},
   "outputs": [],
   "source": [
    "if x <0:\n",
    "    print(\"Negative Number\")"
   ]
  },
  {
   "cell_type": "code",
   "execution_count": 20,
   "id": "57547323-7754-411c-8486-dac8c3243145",
   "metadata": {},
   "outputs": [
    {
     "name": "stdin",
     "output_type": "stream",
     "text": [
      "Enter a number  22\n"
     ]
    }
   ],
   "source": [
    "x=int(input(\"Enter a number \"))\n"
   ]
  },
  {
   "cell_type": "code",
   "execution_count": 21,
   "id": "122152d1-fba6-4f45-8cc9-88dacca6b20b",
   "metadata": {},
   "outputs": [
    {
     "name": "stdout",
     "output_type": "stream",
     "text": [
      "Not greater than 100\n"
     ]
    }
   ],
   "source": [
    "if x>100:\n",
    "    print(\"Yes greater than 100\")\n",
    "else:\n",
    "    print(\"Not greater than 100\")"
   ]
  },
  {
   "cell_type": "code",
   "execution_count": 22,
   "id": "2929ffc4-50ad-430a-bf2a-c44cc9f8bcd3",
   "metadata": {},
   "outputs": [
    {
     "name": "stdout",
     "output_type": "stream",
     "text": [
      "Enjoy the sunshine\n"
     ]
    }
   ],
   "source": [
    "is_raining = False\n",
    "\n",
    "if is_raining:\n",
    "    print(\"Take an umbrella\")\n",
    "else:\n",
    "    print(\"Enjoy the sunshine\")\n"
   ]
  },
  {
   "cell_type": "code",
   "execution_count": 23,
   "id": "fc661664-4997-4743-845f-1a7973a9938d",
   "metadata": {},
   "outputs": [
    {
     "name": "stdout",
     "output_type": "stream",
     "text": [
      "Take an umbrella\n"
     ]
    }
   ],
   "source": [
    "is_raining = True\n",
    "\n",
    "if is_raining:\n",
    "    print(\"Take an umbrella\")\n",
    "else:\n",
    "    print(\"Enjoy sunshine\")"
   ]
  },
  {
   "cell_type": "code",
   "execution_count": 31,
   "id": "475312dc-fbb7-4196-8eba-06e2a9d1679a",
   "metadata": {},
   "outputs": [
    {
     "name": "stdin",
     "output_type": "stream",
     "text": [
      "Enter a word:  ramesh\n"
     ]
    }
   ],
   "source": [
    "x=input(\"Enter a word: \")\n"
   ]
  },
  {
   "cell_type": "code",
   "execution_count": 34,
   "id": "edc98650-2476-4bb9-881a-993432191c5d",
   "metadata": {},
   "outputs": [
    {
     "name": "stdout",
     "output_type": "stream",
     "text": [
      "Long word\n"
     ]
    }
   ],
   "source": [
    "if len(x) > 5:\n",
    "    print(\"Long word\")\n",
    "else:\n",
    "    print(\"Short word\")"
   ]
  },
  {
   "cell_type": "code",
   "execution_count": 37,
   "id": "d9bce2cc-2f9e-4e13-9c05-16e6f09cf6aa",
   "metadata": {},
   "outputs": [
    {
     "name": "stdin",
     "output_type": "stream",
     "text": [
      "Enter a number 33\n"
     ]
    }
   ],
   "source": [
    "x=int(input(\"Enter a number\"))\n",
    "\n",
    "      "
   ]
  },
  {
   "cell_type": "code",
   "execution_count": 35,
   "id": "e644775b-0942-4330-8334-fbe257f58f4d",
   "metadata": {},
   "outputs": [
    {
     "ename": "NameError",
     "evalue": "name 'number' is not defined",
     "output_type": "error",
     "traceback": [
      "\u001b[0;31m---------------------------------------------------------------------------\u001b[0m",
      "\u001b[0;31mNameError\u001b[0m                                 Traceback (most recent call last)",
      "Cell \u001b[0;32mIn[35], line 1\u001b[0m\n\u001b[0;32m----> 1\u001b[0m number\u001b[38;5;241m==\u001b[39m\u001b[38;5;241m0\u001b[39m\n\u001b[1;32m      2\u001b[0m \u001b[38;5;28;01mif\u001b[39;00m number\u001b[38;5;241m==\u001b[39m\u001b[38;5;241m0\u001b[39m:\n\u001b[1;32m      3\u001b[0m    \u001b[38;5;28mprint\u001b[39m(\u001b[38;5;124m\"\u001b[39m\u001b[38;5;124mZero\u001b[39m\u001b[38;5;124m\"\u001b[39m)\n",
      "\u001b[0;31mNameError\u001b[0m: name 'number' is not defined"
     ]
    }
   ],
   "source": [
    " \n",
    "\n",
    "\n",
    "if number==0:\n",
    "    print(\"Zero\")\n",
    "    "
   ]
  },
  {
   "cell_type": "code",
   "execution_count": null,
   "id": "dba69f8b-78c8-425b-a6ed-2a8c1313038f",
   "metadata": {},
   "outputs": [],
   "source": []
  }
 ],
 "metadata": {
  "kernelspec": {
   "display_name": "Python [conda env:base] *",
   "language": "python",
   "name": "conda-base-py"
  },
  "language_info": {
   "codemirror_mode": {
    "name": "ipython",
    "version": 3
   },
   "file_extension": ".py",
   "mimetype": "text/x-python",
   "name": "python",
   "nbconvert_exporter": "python",
   "pygments_lexer": "ipython3",
   "version": "3.13.5"
  }
 },
 "nbformat": 4,
 "nbformat_minor": 5
}
