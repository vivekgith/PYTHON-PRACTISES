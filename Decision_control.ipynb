{
 "cells": [
  {
   "cell_type": "markdown",
   "id": "4f9f7e3a-dee5-4f70-8a0d-4852d50cb52f",
   "metadata": {},
   "source": [
    "                                           **DECISION CONTROL**"
   ]
  },
  {
   "cell_type": "code",
   "execution_count": 1,
   "id": "f9a78bed-9315-4797-85a1-38601ef4f3e4",
   "metadata": {},
   "outputs": [
    {
     "name": "stdin",
     "output_type": "stream",
     "text": [
      "Enter a Number: 22\n"
     ]
    }
   ],
   "source": [
    "a=int(input(\"Enter a Number:\"))"
   ]
  },
  {
   "cell_type": "code",
   "execution_count": 2,
   "id": "3ea5118b-3458-4d4c-a64e-dc643da88470",
   "metadata": {},
   "outputs": [
    {
     "name": "stdout",
     "output_type": "stream",
     "text": [
      "Your age is: 22\n"
     ]
    }
   ],
   "source": [
    "print(\"Your age is:\",a)"
   ]
  },
  {
   "cell_type": "code",
   "execution_count": 3,
   "id": "4c41375c-ab80-41bf-b0eb-f08dd941a756",
   "metadata": {},
   "outputs": [
    {
     "name": "stdout",
     "output_type": "stream",
     "text": [
      "You can drive\n",
      "Yes\n",
      "Python\n"
     ]
    }
   ],
   "source": [
    "if(a>18):\n",
    "    print(\"You can drive\")\n",
    "    print(\"Yes\")\n",
    "    print(\"Python\")\n",
    "else:\n",
    "    print(\"You cannot drive\")\n",
    "    print(\"NO\")\n",
    "    print(\"No python\")"
   ]
  },
  {
   "cell_type": "markdown",
   "id": "04b22a57-621f-4257-a94b-b9f308b883de",
   "metadata": {},
   "source": [
    "                                    **EVEN OR ODD**"
   ]
  },
  {
   "cell_type": "code",
   "execution_count": 4,
   "id": "b352e37f-b527-40e7-9248-73d8d8ed5b61",
   "metadata": {},
   "outputs": [
    {
     "name": "stdin",
     "output_type": "stream",
     "text": [
      "Enter a Number 22\n"
     ]
    }
   ],
   "source": [
    "b=int(input(\"Enter a Number\"))\n",
    "      "
   ]
  },
  {
   "cell_type": "code",
   "execution_count": 5,
   "id": "a8a963c8-7315-4a35-865b-145bcbc40b61",
   "metadata": {},
   "outputs": [
    {
     "name": "stdout",
     "output_type": "stream",
     "text": [
      "Even Number\n"
     ]
    }
   ],
   "source": [
    "if(b%2==0):\n",
    "    print(\"Even Number\")\n",
    "else:\n",
    "    print(\"Odd Number\")"
   ]
  },
  {
   "cell_type": "markdown",
   "id": "1b231e55-5a90-4db2-8025-6ddc115a530c",
   "metadata": {},
   "source": [
    "\n",
    "                                **POSITIVE, NEGATIVE, Zero**"
   ]
  },
  {
   "cell_type": "code",
   "execution_count": 6,
   "id": "a233c2e3-d1bd-4836-ac01-5aaa06e06096",
   "metadata": {},
   "outputs": [
    {
     "name": "stdin",
     "output_type": "stream",
     "text": [
      "Enter a Number 22\n"
     ]
    }
   ],
   "source": [
    "c=int(input(\"Enter a Number\"))\n",
    "      "
   ]
  },
  {
   "cell_type": "code",
   "execution_count": 7,
   "id": "70e5860b-fd59-4e04-bc89-15f1dd607df0",
   "metadata": {},
   "outputs": [
    {
     "name": "stdout",
     "output_type": "stream",
     "text": [
      "Positive\n"
     ]
    }
   ],
   "source": [
    "if(c>0):\n",
    "    print(\"Positive\")\n",
    "elif(c<0):\n",
    "    print(\"Negative\")\n",
    "else:\n",
    "    print(\"Zero\")\n"
   ]
  },
  {
   "cell_type": "markdown",
   "id": "760eb5bd-ce0b-4d4a-90ee-f9de8044a387",
   "metadata": {},
   "source": [
    "                              **Check Voting Eligibility**\n"
   ]
  },
  {
   "cell_type": "code",
   "execution_count": 8,
   "id": "d07d5386-5eee-4073-9585-415ef0610250",
   "metadata": {},
   "outputs": [
    {
     "name": "stdin",
     "output_type": "stream",
     "text": [
      "Enter a Number 21\n"
     ]
    }
   ],
   "source": [
    "age=int(input(\"Enter a Number\"))"
   ]
  },
  {
   "cell_type": "code",
   "execution_count": 9,
   "id": "4813c554-9d0a-4a29-9ef4-86d4068753a0",
   "metadata": {},
   "outputs": [
    {
     "name": "stdout",
     "output_type": "stream",
     "text": [
      "You are eligibile to vote\n"
     ]
    }
   ],
   "source": [
    "if(age>=18):\n",
    "   print(\"You are eligibile to vote\")\n",
    "else:\n",
    "    print(\"You are not eligible to vote\")\n",
    "\n",
    "    "
   ]
  },
  {
   "cell_type": "code",
   "execution_count": 10,
   "id": "8e6813e0-054a-40cb-a0f7-c591783358b4",
   "metadata": {},
   "outputs": [
    {
     "name": "stdin",
     "output_type": "stream",
     "text": [
      "Enter a Number  2\n"
     ]
    }
   ],
   "source": [
    "x=int(input(\"Enter a Number \"))\n",
    "\n"
   ]
  },
  {
   "cell_type": "code",
   "execution_count": 11,
   "id": "9a069fa1-abf7-4ff7-b365-46068e1ef565",
   "metadata": {},
   "outputs": [
    {
     "name": "stdout",
     "output_type": "stream",
     "text": [
      "Positive\n"
     ]
    }
   ],
   "source": [
    "if x>0:\n",
    "    print(\"Positive\")\n",
    "if x<=0:\n",
    "    print(\"NON Positive\")\n",
    "    "
   ]
  },
  {
   "cell_type": "code",
   "execution_count": 12,
   "id": "9be34015-510f-47fc-8e02-6a5499e1be3f",
   "metadata": {},
   "outputs": [
    {
     "name": "stdin",
     "output_type": "stream",
     "text": [
      "Enter a Number  2\n"
     ]
    }
   ],
   "source": [
    "x=int(input(\"Enter a Number \"))\n",
    "      "
   ]
  },
  {
   "cell_type": "code",
   "execution_count": 13,
   "id": "a4a16877-d336-40ea-9b62-d3c6abfe4cd9",
   "metadata": {},
   "outputs": [
    {
     "name": "stdout",
     "output_type": "stream",
     "text": [
      "Even Number\n"
     ]
    }
   ],
   "source": [
    "if x%2==0:\n",
    "    print(\"Even Number\")\n",
    "if x%2!=0:\n",
    "    print(\"Odd Number\" )\n",
    "    \n",
    "\n"
   ]
  },
  {
   "cell_type": "code",
   "execution_count": 14,
   "id": "16842a7b-0c7d-432e-a613-b71af5708a24",
   "metadata": {},
   "outputs": [
    {
     "name": "stdin",
     "output_type": "stream",
     "text": [
      "Enter a word : 2\n"
     ]
    }
   ],
   "source": [
    "word=input(\"Enter a word :\")"
   ]
  },
  {
   "cell_type": "code",
   "execution_count": 15,
   "id": "bea40967-4f2e-4372-b26a-c21e7460c89c",
   "metadata": {},
   "outputs": [
    {
     "name": "stdout",
     "output_type": "stream",
     "text": [
      "Not contain a letter in word\n"
     ]
    }
   ],
   "source": [
    "if 'a' in word:\n",
    "    print(\"Contains a letter in word\")\n",
    "else:\n",
    "    print(\"Not contain a letter in word\")"
   ]
  },
  {
   "cell_type": "code",
   "execution_count": 16,
   "id": "8b2be251-a4ca-4464-a278-648a52ae7a01",
   "metadata": {},
   "outputs": [
    {
     "name": "stdin",
     "output_type": "stream",
     "text": [
      "Enter a number : 2\n"
     ]
    }
   ],
   "source": [
    "x=int(input(\"Enter a number :\"))"
   ]
  },
  {
   "cell_type": "code",
   "execution_count": 17,
   "id": "096a6386-9a49-4b87-b8b0-903a2b48022f",
   "metadata": {},
   "outputs": [
    {
     "name": "stdout",
     "output_type": "stream",
     "text": [
      "Not divisible\n"
     ]
    }
   ],
   "source": [
    "if (x%3==0):\n",
    "    print(\"Yes divisible\")\n",
    "if (x%3!=0):\n",
    "    print(\"Not divisible\")\n",
    "    "
   ]
  },
  {
   "cell_type": "code",
   "execution_count": 18,
   "id": "0f2f263a-1c5a-492d-8184-b9c40ba47829",
   "metadata": {},
   "outputs": [
    {
     "name": "stdin",
     "output_type": "stream",
     "text": [
      "Enter a Number : 2\n"
     ]
    }
   ],
   "source": [
    "x=int(input(\"Enter a Number :\"))\n",
    "      "
   ]
  },
  {
   "cell_type": "code",
   "execution_count": 19,
   "id": "c771e13e-db1a-4c66-8633-da345ad56c63",
   "metadata": {},
   "outputs": [],
   "source": [
    "if x <0:\n",
    "    print(\"Negative Number\")"
   ]
  },
  {
   "cell_type": "code",
   "execution_count": null,
   "id": "57547323-7754-411c-8486-dac8c3243145",
   "metadata": {},
   "outputs": [
    {
     "name": "stdin",
     "output_type": "stream",
     "text": [
      "Enter a number  2\n"
     ]
    }
   ],
   "source": [
    "x=int(input(\"Enter a number \"))\n"
   ]
  },
  {
   "cell_type": "code",
   "execution_count": null,
   "id": "122152d1-fba6-4f45-8cc9-88dacca6b20b",
   "metadata": {},
   "outputs": [],
   "source": [
    "if x>100:\n",
    "    print(\"Yes greater than 100\")\n",
    "else:\n",
    "    print(\"Not greater than 100\")"
   ]
  },
  {
   "cell_type": "code",
   "execution_count": null,
   "id": "2929ffc4-50ad-430a-bf2a-c44cc9f8bcd3",
   "metadata": {},
   "outputs": [],
   "source": [
    "is_raining = False\n",
    "\n",
    "if is_raining:\n",
    "    print(\"Take an umbrella\")\n",
    "else:\n",
    "    print(\"Enjoy the sunshine\")\n"
   ]
  },
  {
   "cell_type": "code",
   "execution_count": null,
   "id": "fc661664-4997-4743-845f-1a7973a9938d",
   "metadata": {},
   "outputs": [],
   "source": [
    "is_raining = True\n",
    "\n",
    "if is_raining:\n",
    "    print(\"Take an umbrella\")\n",
    "else:\n",
    "    print(\"Enjoy sunshine\")"
   ]
  },
  {
   "cell_type": "code",
   "execution_count": null,
   "id": "475312dc-fbb7-4196-8eba-06e2a9d1679a",
   "metadata": {},
   "outputs": [],
   "source": [
    "x=input(\"Enter a word: \")\n"
   ]
  },
  {
   "cell_type": "code",
   "execution_count": null,
   "id": "edc98650-2476-4bb9-881a-993432191c5d",
   "metadata": {},
   "outputs": [],
   "source": [
    "if len(x) > 5:\n",
    "    print(\"Long word\")\n",
    "else:\n",
    "    print(\"Short word\")"
   ]
  },
  {
   "cell_type": "code",
   "execution_count": null,
   "id": "d9bce2cc-2f9e-4e13-9c05-16e6f09cf6aa",
   "metadata": {},
   "outputs": [],
   "source": [
    "x=int(input(\"Enter a number\"))\n",
    "\n",
    "      "
   ]
  },
  {
   "cell_type": "code",
   "execution_count": null,
   "id": "e644775b-0942-4330-8334-fbe257f58f4d",
   "metadata": {},
   "outputs": [],
   "source": [
    " \n",
    "\n",
    "\n",
    "if x==0:\n",
    "    print(\"Zero\")\n",
    "    "
   ]
  },
  {
   "cell_type": "markdown",
   "id": "0cfb129d-a000-4523-8127-c2bffc2a9b39",
   "metadata": {},
   "source": [
    "                                                   **DECISION CONTROL:IF ELIF ELSE**"
   ]
  },
  {
   "cell_type": "code",
   "execution_count": null,
   "id": "a2f57e18-955d-4afc-b652-0d869ba08eb3",
   "metadata": {},
   "outputs": [],
   "source": [
    "x=int(input(\"Enter marks \"))\n",
    "\n"
   ]
  },
  {
   "cell_type": "code",
   "execution_count": null,
   "id": "3c2706e2-426a-4df5-9e03-54be86e8bb87",
   "metadata": {},
   "outputs": [],
   "source": [
    "if x>=90:\n",
    "    print(\"Grade-A\")\n",
    "elif x>80:\n",
    "    print(\"Grade-B\")\n",
    "elif x>70:\n",
    "    print(\"Grade-c\")\n",
    "elif x>60:\n",
    "    print(\"Grade-D\")\n",
    "elif x>=50:\n",
    "    print(\"Grade-E\")\n",
    "else:\n",
    "    print(\"Grade-Fail\")"
   ]
  },
  {
   "cell_type": "code",
   "execution_count": null,
   "id": "8b0d685d-c745-42f9-8ee9-cff62b818987",
   "metadata": {},
   "outputs": [],
   "source": [
    "x=int(input(\"Enter age\"))"
   ]
  },
  {
   "cell_type": "code",
   "execution_count": null,
   "id": "8aae619d-d4e0-480c-9dbd-244d49ada6fd",
   "metadata": {},
   "outputs": [],
   "source": [
    "if x<13:\n",
    "    print(\"Child\")\n",
    "elif x>13 and x<19:\n",
    "    print(\"Teen\")\n",
    "elif x>20 and x<59:\n",
    "    print(\"Adult\")\n",
    "else:\n",
    "    print(\"Senior citizen\")"
   ]
  },
  {
   "cell_type": "code",
   "execution_count": null,
   "id": "282df928-2d55-42cb-81b6-ad439373fd1d",
   "metadata": {},
   "outputs": [],
   "source": [
    "num1=int(input(\"Enter a Number \"))\n",
    "num2=int(input(\"Enter a Number \"))\n",
    "num3=int(input(\"Enter a Number \"))        "
   ]
  },
  {
   "cell_type": "code",
   "execution_count": null,
   "id": "8cd900ec-e5cf-4a6c-b368-c85925d13be8",
   "metadata": {},
   "outputs": [],
   "source": [
    "if num1>=num2 and num1>=num3:\n",
    "    print(\"Num1 is the largest is :\",num1)\n",
    "elif num1>=num2 and num2>=num3:\n",
    "    print(\"The largest number is :\",num2)\n",
    "else:\n",
    "    print(\"The largest number is :\", num3)"
   ]
  },
  {
   "cell_type": "code",
   "execution_count": null,
   "id": "88055fd5-fe4f-4bb1-aaaf-eeeca3b1c427",
   "metadata": {},
   "outputs": [],
   "source": [
    "marks=int(input(\"Enter a Number :\"))"
   ]
  },
  {
   "cell_type": "code",
   "execution_count": null,
   "id": "f01c3337-e8ed-4490-955d-fb34928c1220",
   "metadata": {},
   "outputs": [],
   "source": [
    "if marks>90:\n",
    "    print(\"Grade-A\")\n",
    "elif marks>80:\n",
    "    print(\"Grade-B\")\n",
    "elif marks>70:\n",
    "    print(\"Grade-c\")\n",
    "elif marks>60:\n",
    "    print(\"Grade-c\")\n",
    "else:\n",
    "    print(\"Grade=F\")\n",
    "    "
   ]
  },
  {
   "cell_type": "markdown",
   "id": "f1501ad1-c753-4ba3-b28b-bb06676262a6",
   "metadata": {},
   "source": [
    "\n",
    "                                                        **Calculating Leap Year**"
   ]
  },
  {
   "cell_type": "code",
   "execution_count": null,
   "id": "99757edf-104f-45d9-965b-21ac203b6a41",
   "metadata": {},
   "outputs": [],
   "source": [
    "year=int(input(\"Enter a Year :\"))"
   ]
  },
  {
   "cell_type": "code",
   "execution_count": null,
   "id": "707e41b2-d0ff-4bf3-af91-8d31192d0c05",
   "metadata": {},
   "outputs": [],
   "source": [
    "if year%400==0:\n",
    "    print(\"This year is Leap Year :\")\n",
    "if year%100==0:\n",
    "    print(\"This year is not a Leap year :\")\n",
    "if year%4==0:\n",
    "    print(\"This year is Leap year :\")\n",
    "else:\n",
    "    print(\"This year is not a Leap year :\")"
   ]
  },
  {
   "cell_type": "code",
   "execution_count": null,
   "id": "bd63d588-d30c-4508-b50b-6aaff540d6e8",
   "metadata": {},
   "outputs": [],
   "source": [
    "num=float(input(\"Enter a Number :\"))"
   ]
  },
  {
   "cell_type": "code",
   "execution_count": null,
   "id": "fd91ee3c-f203-4427-8f54-9ac910173e3e",
   "metadata": {},
   "outputs": [],
   "source": [
    "if num<0:\n",
    "    print(\"The number is less than zero :\")\n",
    "elif num>=0 and num<=100:\n",
    "    print(\"The number is between 0 and 100 :\")\n",
    "else:\n",
    "    print(\"The number is greater than 100:\")"
   ]
  },
  {
   "cell_type": "markdown",
   "id": "56498cfd-88f3-4273-a470-82933a9cf287",
   "metadata": {},
   "source": [
    "                                                         **Password checker**"
   ]
  },
  {
   "cell_type": "code",
   "execution_count": null,
   "id": "3bba5374-f027-412e-a805-272d930044e8",
   "metadata": {},
   "outputs": [],
   "source": [
    "store_password=\"Openai123\"\n",
    "x=input(\"Enter Password: \")\n"
   ]
  },
  {
   "cell_type": "code",
   "execution_count": null,
   "id": "c02e4fe0-1548-4491-aabd-4a5d132160ac",
   "metadata": {},
   "outputs": [],
   "source": [
    "if x==store_password:\n",
    "    print(\"Access guranted\")\n",
    "else:\n",
    "    print(\"Access denied\")\n",
    "\n"
   ]
  },
  {
   "cell_type": "markdown",
   "id": "9b85a16a-1d91-4978-b65d-d85d8328283a",
   "metadata": {},
   "source": [
    "                                           **Day of the week using Number**"
   ]
  },
  {
   "cell_type": "code",
   "execution_count": null,
   "id": "f6d7a585-1676-4ec1-aa8f-34423ca62078",
   "metadata": {},
   "outputs": [],
   "source": [
    "day_number=int(input(\"Enter a Number:\"))"
   ]
  },
  {
   "cell_type": "code",
   "execution_count": null,
   "id": "99490e83-cbac-473b-b9f0-70907aee2aff",
   "metadata": {},
   "outputs": [],
   "source": [
    "if day_number==1:\n",
    "    print(\"Monday\")\n",
    "elif day_number==2:\n",
    "    print(\"Tuesday\")\n",
    "elif day_number==3:\n",
    "    print(\"Wednesday\")\n",
    "elif day_number==4:\n",
    "    print(\"Thursday\")\n",
    "elif day_number==5:\n",
    "    print(\"Friday\")\n",
    "elif day_number==6:\n",
    "    print(\"Saturday\")\n",
    "elif day_number==7:\n",
    "    print(\"Sunday\")\n",
    "else:\n",
    "    print(\"Invalid\")"
   ]
  },
  {
   "cell_type": "markdown",
   "id": "50a76214-db4e-472a-b7ef-d7c1a213fdd7",
   "metadata": {},
   "source": [
    "                                                    **Traffic Light Colour Decision**"
   ]
  },
  {
   "cell_type": "code",
   "execution_count": null,
   "id": "2661f62f-d51d-4f5c-8204-8c1b10d83baa",
   "metadata": {},
   "outputs": [],
   "source": [
    "colour=input(\"Enter Traffic Light Colour(Red, Yellow, Green)\")\n",
    "\n"
   ]
  },
  {
   "cell_type": "code",
   "execution_count": null,
   "id": "ce8620c5-20ff-4022-a55e-74feb31a1b21",
   "metadata": {},
   "outputs": [],
   "source": [
    "if colour==\"Red\":\n",
    "    print(\"Stop\")\n",
    "elif colour==\"Yellow\":\n",
    "    print(\"Wait\")\n",
    "elif colour==\"Green\":\n",
    "    print(\"Go\")\n",
    "else:\n",
    "    print(\"Invalid\")\n",
    "    \n",
    "    "
   ]
  },
  {
   "cell_type": "code",
   "execution_count": null,
   "id": "a2378745-26a0-42c6-85c4-2594d4c53f79",
   "metadata": {},
   "outputs": [],
   "source": []
  }
 ],
 "metadata": {
  "kernelspec": {
   "display_name": "Python [conda env:base] *",
   "language": "python",
   "name": "conda-base-py"
  },
  "language_info": {
   "codemirror_mode": {
    "name": "ipython",
    "version": 3
   },
   "file_extension": ".py",
   "mimetype": "text/x-python",
   "name": "python",
   "nbconvert_exporter": "python",
   "pygments_lexer": "ipython3",
   "version": "3.13.5"
  }
 },
 "nbformat": 4,
 "nbformat_minor": 5
}
