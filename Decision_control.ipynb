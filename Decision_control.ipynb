{
 "cells": [
  {
   "cell_type": "markdown",
   "id": "4f9f7e3a-dee5-4f70-8a0d-4852d50cb52f",
   "metadata": {},
   "source": [
    "                                           **DECISION CONTROL**"
   ]
  },
  {
   "cell_type": "code",
   "execution_count": 2,
   "id": "f9a78bed-9315-4797-85a1-38601ef4f3e4",
   "metadata": {},
   "outputs": [
    {
     "name": "stdin",
     "output_type": "stream",
     "text": [
      "Enter a Number: 22\n"
     ]
    }
   ],
   "source": [
    "a=int(input(\"Enter a Number:\"))"
   ]
  },
  {
   "cell_type": "code",
   "execution_count": 5,
   "id": "3ea5118b-3458-4d4c-a64e-dc643da88470",
   "metadata": {},
   "outputs": [
    {
     "name": "stdout",
     "output_type": "stream",
     "text": [
      "Your age is: 22\n"
     ]
    }
   ],
   "source": [
    "print(\"Your age is:\",a)"
   ]
  },
  {
   "cell_type": "code",
   "execution_count": 8,
   "id": "4c41375c-ab80-41bf-b0eb-f08dd941a756",
   "metadata": {},
   "outputs": [
    {
     "name": "stdout",
     "output_type": "stream",
     "text": [
      "You can drive\n",
      "Yes\n",
      "Python\n"
     ]
    }
   ],
   "source": [
    "if(a>18):\n",
    "    print(\"You can drive\")\n",
    "    print(\"Yes\")\n",
    "    print(\"Python\")\n",
    "else:\n",
    "    print(\"You cannot drive\")\n",
    "    print(\"NO\")\n",
    "    print(\"No python\")"
   ]
  },
  {
   "cell_type": "markdown",
   "id": "04b22a57-621f-4257-a94b-b9f308b883de",
   "metadata": {},
   "source": [
    "                                    **EVEN OR ODD**"
   ]
  },
  {
   "cell_type": "code",
   "execution_count": 21,
   "id": "b352e37f-b527-40e7-9248-73d8d8ed5b61",
   "metadata": {},
   "outputs": [
    {
     "name": "stdin",
     "output_type": "stream",
     "text": [
      "Enter a Number 22\n"
     ]
    }
   ],
   "source": [
    "b=int(input(\"Enter a Number\"))\n",
    "      "
   ]
  },
  {
   "cell_type": "code",
   "execution_count": 22,
   "id": "a8a963c8-7315-4a35-865b-145bcbc40b61",
   "metadata": {},
   "outputs": [
    {
     "name": "stdout",
     "output_type": "stream",
     "text": [
      "Even Number\n"
     ]
    }
   ],
   "source": [
    "if(b%2==0):\n",
    "    print(\"Even Number\")\n",
    "else:\n",
    "    print(\"Odd Number\")"
   ]
  },
  {
   "cell_type": "markdown",
   "id": "1b231e55-5a90-4db2-8025-6ddc115a530c",
   "metadata": {},
   "source": [
    "\n",
    "                                **POSITIVE, NEGATIVE, Zero**"
   ]
  },
  {
   "cell_type": "code",
   "execution_count": 27,
   "id": "a233c2e3-d1bd-4836-ac01-5aaa06e06096",
   "metadata": {},
   "outputs": [
    {
     "name": "stdin",
     "output_type": "stream",
     "text": [
      "Enter a Number -1\n"
     ]
    }
   ],
   "source": [
    "c=int(input(\"Enter a Number\"))\n",
    "      "
   ]
  },
  {
   "cell_type": "code",
   "execution_count": 28,
   "id": "70e5860b-fd59-4e04-bc89-15f1dd607df0",
   "metadata": {},
   "outputs": [
    {
     "name": "stdout",
     "output_type": "stream",
     "text": [
      "Negative\n"
     ]
    }
   ],
   "source": [
    "if(c>0):\n",
    "    print(\"Positive\")\n",
    "elif(c<0):\n",
    "    print(\"Negative\")\n",
    "else:\n",
    "    print(\"Zero\")\n"
   ]
  },
  {
   "cell_type": "markdown",
   "id": "760eb5bd-ce0b-4d4a-90ee-f9de8044a387",
   "metadata": {},
   "source": [
    "                              **Check Voting Eligibility**\n"
   ]
  },
  {
   "cell_type": "code",
   "execution_count": 34,
   "id": "d07d5386-5eee-4073-9585-415ef0610250",
   "metadata": {},
   "outputs": [
    {
     "name": "stdin",
     "output_type": "stream",
     "text": [
      "Enter a Number 10\n"
     ]
    }
   ],
   "source": [
    "age=int(input(\"Enter a Number\"))"
   ]
  },
  {
   "cell_type": "code",
   "execution_count": 35,
   "id": "4813c554-9d0a-4a29-9ef4-86d4068753a0",
   "metadata": {},
   "outputs": [
    {
     "name": "stdout",
     "output_type": "stream",
     "text": [
      "You are not eligible to vote\n"
     ]
    }
   ],
   "source": [
    "if(age>=18):\n",
    "   print(\"You are eligibile to vote\")\n",
    "else:\n",
    "    print(\"You are not eligible to vote\")\n",
    "\n",
    "    "
   ]
  },
  {
   "cell_type": "code",
   "execution_count": null,
   "id": "8e6813e0-054a-40cb-a0f7-c591783358b4",
   "metadata": {},
   "outputs": [],
   "source": []
  }
 ],
 "metadata": {
  "kernelspec": {
   "display_name": "Python [conda env:base] *",
   "language": "python",
   "name": "conda-base-py"
  },
  "language_info": {
   "codemirror_mode": {
    "name": "ipython",
    "version": 3
   },
   "file_extension": ".py",
   "mimetype": "text/x-python",
   "name": "python",
   "nbconvert_exporter": "python",
   "pygments_lexer": "ipython3",
   "version": "3.13.5"
  }
 },
 "nbformat": 4,
 "nbformat_minor": 5
}
