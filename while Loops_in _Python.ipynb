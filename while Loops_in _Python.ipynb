{
 "cells": [
  {
   "cell_type": "markdown",
   "id": "ec91d540-cd25-4a43-ae3a-46365455ea0d",
   "metadata": {},
   "source": [
    "                                       **While Loops Practise Questions**"
   ]
  },
  {
   "cell_type": "markdown",
   "id": "2d849417-3ba0-4558-bfff-88d706195dd6",
   "metadata": {},
   "source": [
    "                                           ** Count NUMBER 1 to 20**\n"
   ]
  },
  {
   "cell_type": "code",
   "execution_count": 1,
   "id": "babce98e-c260-4da9-8dd2-123e3e7f36da",
   "metadata": {},
   "outputs": [
    {
     "name": "stdout",
     "output_type": "stream",
     "text": [
      "1\n",
      "2\n",
      "3\n",
      "4\n",
      "5\n",
      "6\n",
      "7\n",
      "8\n",
      "9\n",
      "10\n",
      "11\n",
      "12\n",
      "13\n",
      "14\n",
      "15\n",
      "16\n",
      "17\n",
      "18\n",
      "19\n"
     ]
    }
   ],
   "source": [
    "i=1\n",
    "while i<20:\n",
    "    print(i)\n",
    "    i+=1"
   ]
  },
  {
   "cell_type": "markdown",
   "id": "265990fe-c060-4164-a221-723a7a99e0e1",
   "metadata": {},
   "source": [
    "**print the number 1 to 20**"
   ]
  },
  {
   "cell_type": "code",
   "execution_count": 2,
   "id": "c776e0ce-e9b3-4ef4-b0d0-2b6c3971b6dc",
   "metadata": {},
   "outputs": [
    {
     "name": "stdout",
     "output_type": "stream",
     "text": [
      "1\n",
      "2\n",
      "3\n",
      "4\n",
      "5\n",
      "6\n",
      "7\n",
      "8\n",
      "9\n",
      "10\n",
      "11\n",
      "12\n",
      "13\n",
      "14\n",
      "15\n",
      "16\n",
      "17\n",
      "18\n",
      "19\n",
      "20\n"
     ]
    }
   ],
   "source": [
    "i=1\n",
    "while i<21:\n",
    "    print(i)\n",
    "    i += 1"
   ]
  },
  {
   "cell_type": "markdown",
   "id": "799f3f1d-7c8c-45c5-a6bc-d60bf46a69a1",
   "metadata": {},
   "source": [
    "##### x=int(input(\"Enter a Number :\"))"
   ]
  },
  {
   "cell_type": "markdown",
   "id": "bd2b6ca8-00c7-4898-af07-476776d1506b",
   "metadata": {},
   "source": [
    "i=2\n",
    "while i<=20:\n",
    "    print(i)\n",
    "    i *= 3 "
   ]
  },
  {
   "cell_type": "markdown",
   "id": "332ee666-20f2-4123-bbba-293888d93730",
   "metadata": {},
   "source": [
    "                         ** Print Number From 1 to 10 :while loop **"
   ]
  },
  {
   "cell_type": "code",
   "execution_count": 3,
   "id": "3d998a00-4b7f-4334-ae0f-b746449018c7",
   "metadata": {},
   "outputs": [
    {
     "name": "stdout",
     "output_type": "stream",
     "text": [
      "1\n",
      "2\n",
      "3\n",
      "4\n",
      "5\n",
      "6\n",
      "7\n",
      "8\n",
      "9\n",
      "10\n"
     ]
    }
   ],
   "source": [
    "i=1\n",
    "while i<=10:\n",
    "    print(i)\n",
    "    i += 1"
   ]
  },
  {
   "cell_type": "markdown",
   "id": "5fd0a3bc-7dab-4453-bc09-57dccb1918dd",
   "metadata": {},
   "source": [
    "                          **Print even numbers between 1 to 20 using while loop.**"
   ]
  },
  {
   "cell_type": "code",
   "execution_count": 4,
   "id": "b0f71080-35ae-4a9b-ac27-9600b2d5e3fa",
   "metadata": {},
   "outputs": [
    {
     "name": "stdout",
     "output_type": "stream",
     "text": [
      "2\n",
      "4\n",
      "6\n",
      "8\n",
      "10\n",
      "12\n",
      "14\n",
      "16\n",
      "18\n",
      "20\n"
     ]
    }
   ],
   "source": [
    "i=1\n",
    "while i<=20:\n",
    "    if i %2 == 0:\n",
    "        print(i)\n",
    "    i+=1\n"
   ]
  },
  {
   "cell_type": "code",
   "execution_count": 5,
   "id": "0a858928-4b9f-4e0b-ae58-da2786e688a7",
   "metadata": {},
   "outputs": [
    {
     "name": "stdout",
     "output_type": "stream",
     "text": [
      "2\n",
      "4\n",
      "6\n",
      "8\n",
      "10\n",
      "12\n",
      "14\n",
      "16\n",
      "18\n",
      "20\n"
     ]
    }
   ],
   "source": [
    "i = 1\n",
    "while i <= 20:\n",
    "    if i % 2 == 0:\n",
    "        print(i)\n",
    "    i += 1"
   ]
  },
  {
   "cell_type": "markdown",
   "id": "b7c17187-c447-472e-bb69-d6c23649335c",
   "metadata": {},
   "source": [
    "                                          **Print Odd Number 1 To 20**"
   ]
  },
  {
   "cell_type": "code",
   "execution_count": 6,
   "id": "161350c9-84da-419c-9ffa-24088c070d87",
   "metadata": {},
   "outputs": [
    {
     "name": "stdout",
     "output_type": "stream",
     "text": [
      "1\n",
      "3\n",
      "5\n",
      "7\n",
      "9\n",
      "11\n",
      "13\n",
      "15\n",
      "17\n",
      "19\n"
     ]
    }
   ],
   "source": [
    "i=1\n",
    "while i<=20:\n",
    "        print(i)\n",
    "        i +=2"
   ]
  },
  {
   "cell_type": "markdown",
   "id": "2f6f87ed-4dd9-474f-9318-96166e233e4f",
   "metadata": {},
   "source": [
    "                                     **Table of 7**"
   ]
  },
  {
   "cell_type": "code",
   "execution_count": 7,
   "id": "9bfc40cf-59ec-4727-8927-debacfd271e5",
   "metadata": {},
   "outputs": [
    {
     "name": "stdout",
     "output_type": "stream",
     "text": [
      "7\n",
      "14\n",
      "21\n",
      "28\n",
      "35\n",
      "42\n",
      "49\n",
      "56\n",
      "63\n",
      "70\n"
     ]
    }
   ],
   "source": [
    "i=1\n",
    "Num=7\n",
    "while i <=10:\n",
    "    print(Num*i)\n",
    "    i+=1"
   ]
  },
  {
   "cell_type": "code",
   "execution_count": 8,
   "id": "3044aad2-0224-4ab2-bb67-431a5ae9bf57",
   "metadata": {},
   "outputs": [
    {
     "name": "stdout",
     "output_type": "stream",
     "text": [
      "25\n",
      "50\n",
      "75\n",
      "100\n",
      "125\n",
      "150\n",
      "175\n",
      "200\n",
      "225\n",
      "250\n"
     ]
    }
   ],
   "source": [
    "i=1\n",
    "Num=25\n",
    "while i<=10:\n",
    "    print(i*Num)\n",
    "    i+=1"
   ]
  },
  {
   "cell_type": "code",
   "execution_count": 9,
   "id": "e6ac32ab-3ccc-432f-bc22-4d77baf796e2",
   "metadata": {},
   "outputs": [
    {
     "name": "stdout",
     "output_type": "stream",
     "text": [
      "100\n",
      "200\n",
      "300\n",
      "400\n",
      "500\n",
      "600\n",
      "700\n",
      "800\n",
      "900\n",
      "1000\n"
     ]
    }
   ],
   "source": [
    "i=1\n",
    "num=100\n",
    "while i<=10:\n",
    "    print(i*num)\n",
    "    i+=1"
   ]
  },
  {
   "cell_type": "code",
   "execution_count": 10,
   "id": "2a032495-317c-433a-adee-cbe1f4f56a51",
   "metadata": {},
   "outputs": [
    {
     "name": "stdout",
     "output_type": "stream",
     "text": [
      "5050\n"
     ]
    }
   ],
   "source": [
    "i=1\n",
    "sum=0\n",
    "while i<=100:\n",
    "    sum = sum + i\n",
    "    i+=1\n",
    "print(sum)"
   ]
  },
  {
   "cell_type": "code",
   "execution_count": 11,
   "id": "6e449514-752c-4b70-9159-4b19c5387361",
   "metadata": {},
   "outputs": [
    {
     "name": "stdout",
     "output_type": "stream",
     "text": [
      "5050\n"
     ]
    }
   ],
   "source": [
    "i = 1\n",
    "sum = 0\n",
    "while i <= 100:\n",
    "    sum = sum + i\n",
    "    i+=1\n",
    "print(sum)"
   ]
  },
  {
   "cell_type": "code",
   "execution_count": 12,
   "id": "9d2d95e3-51ab-4f52-b641-af55fa7ed29b",
   "metadata": {},
   "outputs": [
    {
     "name": "stdout",
     "output_type": "stream",
     "text": [
      "1\n",
      "3\n",
      "5\n",
      "7\n",
      "9\n",
      "11\n",
      "13\n",
      "15\n",
      "17\n",
      "19\n",
      "21\n"
     ]
    }
   ],
   "source": [
    "i = 1\n",
    "while i <= 22:\n",
    "    if i % 2 !=0:\n",
    "        print(i)\n",
    "        i+=2\n",
    "    "
   ]
  },
  {
   "cell_type": "code",
   "execution_count": 13,
   "id": "45ddd291-c120-4864-af09-3e7f86a3dc0f",
   "metadata": {},
   "outputs": [
    {
     "name": "stdout",
     "output_type": "stream",
     "text": [
      "7\n",
      "14\n",
      "21\n",
      "28\n",
      "35\n",
      "42\n",
      "49\n",
      "56\n",
      "63\n",
      "70\n"
     ]
    }
   ],
   "source": [
    "i = 1\n",
    "table = 7\n",
    "while i <= 10:\n",
    "    print(table*i)\n",
    "    i+=1"
   ]
  },
  {
   "cell_type": "code",
   "execution_count": 14,
   "id": "baaee407-5830-4768-9be8-55b75c222306",
   "metadata": {},
   "outputs": [
    {
     "name": "stdout",
     "output_type": "stream",
     "text": [
      "1\n",
      "2\n",
      "3\n",
      "4\n",
      "5\n"
     ]
    }
   ],
   "source": [
    "i = 1\n",
    "while i <= 5:\n",
    "    print(i)\n",
    "    i+=1"
   ]
  },
  {
   "cell_type": "code",
   "execution_count": 15,
   "id": "0631b242-81b0-46e7-b85e-ba9500bb7f76",
   "metadata": {},
   "outputs": [
    {
     "name": "stdout",
     "output_type": "stream",
     "text": [
      "5\n",
      "4\n",
      "3\n",
      "2\n",
      "1\n",
      "0\n"
     ]
    }
   ],
   "source": [
    "i = 5\n",
    "while i >= 0:\n",
    "    print(i)\n",
    "    i-=1\n",
    "    "
   ]
  },
  {
   "cell_type": "code",
   "execution_count": 16,
   "id": "d7fd1ce4-6228-4c79-a40c-b2bc8cacf4b4",
   "metadata": {},
   "outputs": [
    {
     "name": "stdin",
     "output_type": "stream",
     "text": [
      "Enter a Number : 23322424\n"
     ]
    }
   ],
   "source": [
    "x=int(input(\"Enter a Number :\"))\n"
   ]
  },
  {
   "cell_type": "code",
   "execution_count": 17,
   "id": "4cfc81ea-1473-4ead-afe9-c4aed0162641",
   "metadata": {},
   "outputs": [
    {
     "name": "stdout",
     "output_type": "stream",
     "text": [
      "46446454\n"
     ]
    }
   ],
   "source": [
    "rev = 0\n",
    "x=45464464\n",
    "while x > 0:\n",
    "    digit = x % 10\n",
    "    rev = rev * 10 + digit\n",
    "    x = x // 10\n",
    "print(rev)\n",
    "\n"
   ]
  },
  {
   "cell_type": "markdown",
   "id": "164c1402-4ccf-47d8-8bc5-78f01d95e567",
   "metadata": {},
   "source": [
    "                                        **Top 100 Questions of while loop**\n"
   ]
  },
  {
   "cell_type": "markdown",
   "id": "667a0c75-9ef3-4d7d-83dc-cafe85f636b8",
   "metadata": {},
   "source": [
    "                                           **Number And Sequences**"
   ]
  },
  {
   "cell_type": "markdown",
   "id": "a23be71e-ccec-453e-a216-f1c2132511fa",
   "metadata": {},
   "source": [
    "**Print Number from 1 to 50**"
   ]
  },
  {
   "cell_type": "code",
   "execution_count": 18,
   "id": "d320162e-2ed0-44a3-b11f-366eb2788817",
   "metadata": {},
   "outputs": [
    {
     "name": "stdout",
     "output_type": "stream",
     "text": [
      "1\n",
      "2\n",
      "3\n",
      "4\n",
      "5\n",
      "6\n",
      "7\n",
      "8\n",
      "9\n",
      "10\n",
      "11\n",
      "12\n",
      "13\n",
      "14\n",
      "15\n",
      "16\n",
      "17\n",
      "18\n",
      "19\n",
      "20\n",
      "21\n",
      "22\n",
      "23\n",
      "24\n",
      "25\n",
      "26\n",
      "27\n",
      "28\n",
      "29\n",
      "30\n",
      "31\n",
      "32\n",
      "33\n",
      "34\n",
      "35\n",
      "36\n",
      "37\n",
      "38\n",
      "39\n",
      "40\n",
      "41\n",
      "42\n",
      "43\n",
      "44\n",
      "45\n",
      "46\n",
      "47\n",
      "48\n",
      "49\n",
      "50\n"
     ]
    }
   ],
   "source": [
    "i=1\n",
    "while i <=50:\n",
    "    print(i)\n",
    "    i+=1"
   ]
  },
  {
   "cell_type": "markdown",
   "id": "5a3375d4-ae77-48d2-bc0e-cd1127adf4fc",
   "metadata": {},
   "source": [
    "**Print Number from 1 to 50 in reverse order**"
   ]
  },
  {
   "cell_type": "code",
   "execution_count": 19,
   "id": "4c999dd7-8014-40e8-8e3e-2accf6554391",
   "metadata": {},
   "outputs": [
    {
     "name": "stdout",
     "output_type": "stream",
     "text": [
      "50\n",
      "49\n",
      "48\n",
      "47\n",
      "46\n",
      "45\n",
      "44\n",
      "43\n",
      "42\n",
      "41\n",
      "40\n",
      "39\n",
      "38\n",
      "37\n",
      "36\n",
      "35\n",
      "34\n",
      "33\n",
      "32\n",
      "31\n",
      "30\n",
      "29\n",
      "28\n",
      "27\n",
      "26\n",
      "25\n",
      "24\n",
      "23\n",
      "22\n",
      "21\n",
      "20\n",
      "19\n",
      "18\n",
      "17\n",
      "16\n",
      "15\n",
      "14\n",
      "13\n",
      "12\n",
      "11\n",
      "10\n",
      "9\n",
      "8\n",
      "7\n",
      "6\n",
      "5\n",
      "4\n",
      "3\n",
      "2\n",
      "1\n"
     ]
    }
   ],
   "source": [
    "i=50\n",
    "while i>=1:\n",
    "    print(i)\n",
    "    i-=1"
   ]
  },
  {
   "cell_type": "markdown",
   "id": "8a43d1b5-0c0e-4350-9ba7-bef4341f4c0a",
   "metadata": {},
   "source": [
    "**Print all even number 1 to 100**"
   ]
  },
  {
   "cell_type": "code",
   "execution_count": 20,
   "id": "1b154f26-0184-4f17-91bd-423477a67113",
   "metadata": {},
   "outputs": [
    {
     "name": "stdout",
     "output_type": "stream",
     "text": [
      "2\n",
      "4\n",
      "6\n",
      "8\n",
      "10\n",
      "12\n",
      "14\n",
      "16\n",
      "18\n",
      "20\n",
      "22\n",
      "24\n",
      "26\n",
      "28\n",
      "30\n",
      "32\n",
      "34\n",
      "36\n",
      "38\n",
      "40\n",
      "42\n",
      "44\n",
      "46\n",
      "48\n",
      "50\n",
      "52\n",
      "54\n",
      "56\n",
      "58\n",
      "60\n",
      "62\n",
      "64\n",
      "66\n",
      "68\n",
      "70\n",
      "72\n",
      "74\n",
      "76\n",
      "78\n",
      "80\n",
      "82\n",
      "84\n",
      "86\n",
      "88\n",
      "90\n",
      "92\n",
      "94\n",
      "96\n",
      "98\n",
      "100\n"
     ]
    }
   ],
   "source": [
    "i=1\n",
    "while i<=100:\n",
    "    if i % 2 == 0:\n",
    "        print(i)\n",
    "    i+=1 \n",
    "        \n",
    "    "
   ]
  },
  {
   "cell_type": "code",
   "execution_count": 21,
   "id": "44461243-4731-4b90-b930-11edc27baece",
   "metadata": {},
   "outputs": [
    {
     "name": "stdout",
     "output_type": "stream",
     "text": [
      "2\n",
      "4\n",
      "6\n",
      "8\n",
      "10\n",
      "12\n",
      "14\n",
      "16\n",
      "18\n",
      "20\n",
      "22\n",
      "24\n",
      "26\n",
      "28\n",
      "30\n",
      "32\n",
      "34\n",
      "36\n",
      "38\n",
      "40\n",
      "42\n",
      "44\n",
      "46\n",
      "48\n",
      "50\n",
      "52\n",
      "54\n",
      "56\n",
      "58\n",
      "60\n",
      "62\n",
      "64\n",
      "66\n",
      "68\n",
      "70\n",
      "72\n",
      "74\n",
      "76\n",
      "78\n",
      "80\n",
      "82\n",
      "84\n",
      "86\n",
      "88\n",
      "90\n",
      "92\n",
      "94\n",
      "96\n",
      "98\n",
      "100\n"
     ]
    }
   ],
   "source": [
    "i = 1\n",
    "while i <= 100:\n",
    "    if i % 2 == 0:\n",
    "        print(i)\n",
    "    i += 1"
   ]
  },
  {
   "cell_type": "markdown",
   "id": "68889b32-cc68-4ed5-8a7e-bd45104f0ceb",
   "metadata": {},
   "source": [
    "**Print All odd Number 1 to 100**"
   ]
  },
  {
   "cell_type": "code",
   "execution_count": 22,
   "id": "9258acd4-27b4-47ed-8cec-c53234ee50a9",
   "metadata": {},
   "outputs": [
    {
     "name": "stdout",
     "output_type": "stream",
     "text": [
      "1\n",
      "3\n",
      "5\n",
      "7\n",
      "9\n",
      "11\n",
      "13\n",
      "15\n",
      "17\n",
      "19\n",
      "21\n",
      "23\n",
      "25\n",
      "27\n",
      "29\n",
      "31\n",
      "33\n",
      "35\n",
      "37\n",
      "39\n",
      "41\n",
      "43\n",
      "45\n",
      "47\n",
      "49\n",
      "51\n",
      "53\n",
      "55\n",
      "57\n",
      "59\n",
      "61\n",
      "63\n",
      "65\n",
      "67\n",
      "69\n",
      "71\n",
      "73\n",
      "75\n",
      "77\n",
      "79\n",
      "81\n",
      "83\n",
      "85\n",
      "87\n",
      "89\n",
      "91\n",
      "93\n",
      "95\n",
      "97\n",
      "99\n"
     ]
    }
   ],
   "source": [
    "i=1\n",
    "while i<=100:\n",
    "    if i % 2!=0:\n",
    "        print(i)\n",
    "    i+=2    "
   ]
  },
  {
   "cell_type": "markdown",
   "id": "75bc86ea-c867-400a-be7c-14a456777656",
   "metadata": {},
   "source": [
    "**Print Square of Number from 1 to 20**"
   ]
  },
  {
   "cell_type": "code",
   "execution_count": 23,
   "id": "eac59afa-f972-4859-9b79-328b56e22526",
   "metadata": {},
   "outputs": [
    {
     "name": "stdout",
     "output_type": "stream",
     "text": [
      "1\n",
      "4\n",
      "9\n",
      "16\n",
      "25\n",
      "36\n",
      "49\n",
      "64\n",
      "81\n",
      "100\n",
      "121\n",
      "144\n",
      "169\n",
      "196\n",
      "225\n",
      "256\n",
      "289\n",
      "324\n",
      "361\n",
      "400\n"
     ]
    }
   ],
   "source": [
    "i=1\n",
    "while i<=20:\n",
    "    print(i*i)#i*i\n",
    "    i+=1"
   ]
  },
  {
   "cell_type": "markdown",
   "id": "a5fbeb62-9a43-42d3-bcaf-26370de2b2d5",
   "metadata": {},
   "source": [
    "**Find cube of 1 to 20**"
   ]
  },
  {
   "cell_type": "code",
   "execution_count": 24,
   "id": "f9cdd97a-898e-464f-8c56-92e8e64a3618",
   "metadata": {},
   "outputs": [
    {
     "name": "stdout",
     "output_type": "stream",
     "text": [
      "1\n",
      "8\n",
      "27\n",
      "64\n",
      "125\n",
      "216\n",
      "343\n",
      "512\n",
      "729\n",
      "1000\n",
      "1331\n",
      "1728\n",
      "2197\n",
      "2744\n",
      "3375\n",
      "4096\n",
      "4913\n",
      "5832\n",
      "6859\n",
      "8000\n"
     ]
    }
   ],
   "source": [
    "i=1\n",
    "while i<=20:#Find cube formula **3\n",
    "    print(i**3)\n",
    "    i+=1"
   ]
  },
  {
   "cell_type": "markdown",
   "id": "0107199b-7a6f-4459-a7ec-e7553fa49f53",
   "metadata": {},
   "source": [
    "**Print Multiplication of table of given Number**"
   ]
  },
  {
   "cell_type": "code",
   "execution_count": 25,
   "id": "b35834b0-81e7-44bd-969d-37d29b93e694",
   "metadata": {},
   "outputs": [
    {
     "name": "stdout",
     "output_type": "stream",
     "text": [
      "7\n",
      "14\n",
      "21\n",
      "28\n",
      "35\n",
      "42\n",
      "49\n",
      "56\n",
      "63\n",
      "70\n"
     ]
    }
   ],
   "source": [
    "i=1\n",
    "num=7\n",
    "while i <=10:\n",
    "    print(i*num)\n",
    "    i+=1"
   ]
  },
  {
   "cell_type": "code",
   "execution_count": null,
   "id": "444385cb-60c9-4166-bedf-9d8c156bee28",
   "metadata": {},
   "outputs": [],
   "source": []
  },
  {
   "cell_type": "markdown",
   "id": "94f6e9da-9bd9-4532-81e5-2d707e0a9c69",
   "metadata": {},
   "source": []
  },
  {
   "cell_type": "code",
   "execution_count": 26,
   "id": "ae6214e3-946d-4233-94af-f26dbcca1a26",
   "metadata": {},
   "outputs": [
    {
     "name": "stdout",
     "output_type": "stream",
     "text": [
      "7\n",
      "14\n",
      "21\n",
      "28\n",
      "35\n",
      "42\n",
      "49\n",
      "56\n",
      "63\n",
      "70\n",
      "77\n",
      "84\n",
      "91\n",
      "98\n",
      "105\n",
      "112\n",
      "119\n",
      "126\n",
      "133\n",
      "140\n"
     ]
    }
   ],
   "source": [
    "i=1\n",
    "Num=7\n",
    "while i<=20:\n",
    "    print(i*num)\n",
    "    i+=1"
   ]
  },
  {
   "cell_type": "markdown",
   "id": "4e0c5da2-d2df-4085-b4e5-21dba181d092",
   "metadata": {},
   "source": [
    "**print all number 1 to 100 divisible by 5**"
   ]
  },
  {
   "cell_type": "code",
   "execution_count": 27,
   "id": "ec164b2c-7e3c-460e-bb49-e9f3769d2b6a",
   "metadata": {},
   "outputs": [
    {
     "name": "stdout",
     "output_type": "stream",
     "text": [
      "5\n",
      "10\n",
      "15\n",
      "20\n",
      "25\n",
      "30\n",
      "35\n",
      "40\n",
      "45\n",
      "50\n",
      "55\n",
      "60\n",
      "65\n",
      "70\n",
      "75\n",
      "80\n",
      "85\n",
      "90\n",
      "95\n",
      "100\n"
     ]
    }
   ],
   "source": [
    "i=1\n",
    "while i <=100:\n",
    "    if i%5 ==0:\n",
    "        print(i)\n",
    "    i+=1   "
   ]
  },
  {
   "cell_type": "markdown",
   "id": "d9363b53-abbd-4767-9a0e-56bc58672396",
   "metadata": {},
   "source": [
    "**Print Number from 1 to 100 skipping multiples of 3**"
   ]
  },
  {
   "cell_type": "code",
   "execution_count": 28,
   "id": "5e5b911a-1ee7-43ff-9d47-880fc0de4fd5",
   "metadata": {},
   "outputs": [
    {
     "name": "stdout",
     "output_type": "stream",
     "text": [
      "1\n",
      "2\n",
      "4\n",
      "5\n",
      "7\n",
      "8\n",
      "10\n",
      "11\n",
      "13\n",
      "14\n",
      "16\n",
      "17\n",
      "19\n",
      "20\n",
      "22\n",
      "23\n",
      "25\n",
      "26\n",
      "28\n",
      "29\n",
      "31\n",
      "32\n",
      "34\n",
      "35\n",
      "37\n",
      "38\n",
      "40\n",
      "41\n",
      "43\n",
      "44\n",
      "46\n",
      "47\n",
      "49\n",
      "50\n",
      "52\n",
      "53\n",
      "55\n",
      "56\n",
      "58\n",
      "59\n",
      "61\n",
      "62\n",
      "64\n",
      "65\n",
      "67\n",
      "68\n",
      "70\n",
      "71\n",
      "73\n",
      "74\n",
      "76\n",
      "77\n",
      "79\n",
      "80\n",
      "82\n",
      "83\n",
      "85\n",
      "86\n",
      "88\n",
      "89\n",
      "91\n",
      "92\n",
      "94\n",
      "95\n",
      "97\n",
      "98\n",
      "100\n"
     ]
    }
   ],
   "source": [
    "i=1\n",
    "while i<=100:\n",
    "    if i%3!=0:\n",
    "        print(i)\n",
    "    i+=1    \n",
    "    "
   ]
  },
  {
   "cell_type": "markdown",
   "id": "2fd26a5e-d8a7-4d73-8aee-b00f868a1817",
   "metadata": {},
   "source": [
    "                                                    **Sumation Problem**"
   ]
  },
  {
   "cell_type": "markdown",
   "id": "f8fcabfb-1b77-4a0b-af94-4030ece8d1fb",
   "metadata": {},
   "source": [
    "**Find the sum of first 50 natural numbers**"
   ]
  },
  {
   "cell_type": "code",
   "execution_count": 29,
   "id": "071d1b17-ebd7-4244-9887-f8206a8ebf42",
   "metadata": {},
   "outputs": [
    {
     "name": "stdout",
     "output_type": "stream",
     "text": [
      "1\n",
      "2\n",
      "3\n",
      "4\n",
      "5\n",
      "6\n",
      "7\n",
      "8\n",
      "9\n",
      "10\n",
      "11\n",
      "12\n",
      "13\n",
      "14\n",
      "15\n",
      "16\n",
      "17\n",
      "18\n",
      "19\n",
      "20\n",
      "21\n",
      "22\n",
      "23\n",
      "24\n",
      "25\n",
      "26\n",
      "27\n",
      "28\n",
      "29\n",
      "30\n",
      "31\n",
      "32\n",
      "33\n",
      "34\n",
      "35\n",
      "36\n",
      "37\n",
      "38\n",
      "39\n",
      "40\n",
      "41\n",
      "42\n",
      "43\n",
      "44\n",
      "45\n",
      "46\n",
      "47\n",
      "48\n",
      "49\n",
      "50\n"
     ]
    }
   ],
   "source": [
    "i=1\n",
    "while i<=50:\n",
    "    print(i)\n",
    "    i+=1"
   ]
  },
  {
   "cell_type": "markdown",
   "id": "9a5a64d4-f328-4af2-9496-371e05355266",
   "metadata": {},
   "source": [
    "**Find sum of all even Number 1 to 100**"
   ]
  },
  {
   "cell_type": "code",
   "execution_count": 30,
   "id": "a8b1c49f-b809-4292-bc3f-754678bdd0ed",
   "metadata": {},
   "outputs": [
    {
     "name": "stdout",
     "output_type": "stream",
     "text": [
      "2550\n"
     ]
    }
   ],
   "source": [
    "i=1\n",
    "sum=0\n",
    "while i<=100:\n",
    "    if i%2 ==0:\n",
    "        sum=sum+i\n",
    "    i+=1\n",
    "print(sum)"
   ]
  },
  {
   "cell_type": "markdown",
   "id": "0b19c9fe-cf48-45fb-a7aa-17920ce469df",
   "metadata": {},
   "source": [
    "**Find sum of all odd Number 1 to 100**"
   ]
  },
  {
   "cell_type": "code",
   "execution_count": 31,
   "id": "17ccefbd-7c0e-40e4-ab24-21cac5c5aa14",
   "metadata": {},
   "outputs": [
    {
     "name": "stdout",
     "output_type": "stream",
     "text": [
      "2500\n"
     ]
    }
   ],
   "source": [
    "i=1\n",
    "sum=0\n",
    "while i<=100:\n",
    "    if i%2 !=0: #check odd numbers\n",
    "        sum=sum+i  #add value of i in sum and assign in sum\n",
    "    i+=2     #increment by 2\n",
    "print(sum)"
   ]
  },
  {
   "cell_type": "markdown",
   "id": "7cebec70-da4d-4af3-a449-b5eac0cdc333",
   "metadata": {},
   "source": [
    "**Find sum of a digit of given number**"
   ]
  },
  {
   "cell_type": "code",
   "execution_count": 32,
   "id": "5a35c3db-a8bb-4665-854f-f0114a52ed1f",
   "metadata": {},
   "outputs": [
    {
     "name": "stdout",
     "output_type": "stream",
     "text": [
      "89\n"
     ]
    }
   ],
   "source": [
    "num=98765432123456789\n",
    "sum=0\n",
    "while num>0:\n",
    "    last_digit=num%10\n",
    "    sum=sum+last_digit\n",
    "    num= num // 10\n",
    "print(sum)    \n"
   ]
  },
  {
   "cell_type": "code",
   "execution_count": 33,
   "id": "5eb88082-e680-4e26-944d-e5cd8088067f",
   "metadata": {},
   "outputs": [
    {
     "name": "stdout",
     "output_type": "stream",
     "text": [
      "87654234321\n"
     ]
    }
   ],
   "source": [
    "num= 12343245678\n",
    "rev= 0\n",
    "while num > 0:\n",
    "    last_digit= num % 10\n",
    "    rev= rev * 10 + last_digit\n",
    "    num = num // 10\n",
    "print(rev)    "
   ]
  },
  {
   "cell_type": "markdown",
   "id": "a8045db3-04c3-452f-97df-5c20d135366f",
   "metadata": {},
   "source": [
    "**Find the product of digits of a given number**"
   ]
  },
  {
   "cell_type": "code",
   "execution_count": 34,
   "id": "e1cd9cbf-b6c8-4886-a6f8-da9b5b65874b",
   "metadata": {},
   "outputs": [
    {
     "name": "stdout",
     "output_type": "stream",
     "text": [
      "120\n"
     ]
    }
   ],
   "source": [
    "num = 26215\n",
    "product= 1 #we cannot take o here bcz 0*0=0,so take 1.\n",
    "while num > 0:\n",
    "    last_digit= num % 10\n",
    "    product= product * last_digit\n",
    "    num = num // 10\n",
    "print(product)    "
   ]
  },
  {
   "cell_type": "markdown",
   "id": "283896ba-068b-4e48-8431-2a59ef1b4971",
   "metadata": {},
   "source": [
    "**Find the sum of numbers from 1 to n (user input)**"
   ]
  },
  {
   "cell_type": "code",
   "execution_count": 6,
   "id": "36658c19-be8b-4f8b-88cb-55402201d993",
   "metadata": {},
   "outputs": [
    {
     "name": "stdin",
     "output_type": "stream",
     "text": [
      "Enter a Number : 20\n"
     ]
    },
    {
     "name": "stdout",
     "output_type": "stream",
     "text": [
      "210\n"
     ]
    }
   ],
   "source": [
    "num=int(input(\"Enter a Number :\"))\n",
    "i=1\n",
    "sum=0\n",
    "while i<=num:\n",
    "    sum=sum + i\n",
    "    i+=1\n",
    "print(sum)    \n"
   ]
  },
  {
   "cell_type": "markdown",
   "id": "be32b959-2266-4656-83a5-5fa241199822",
   "metadata": {},
   "source": [
    "**Find the sum of cubes of first 10 natural numbers**"
   ]
  },
  {
   "cell_type": "code",
   "execution_count": 4,
   "id": "a70a1380-8fdf-4c60-9410-38024cb25f5c",
   "metadata": {},
   "outputs": [
    {
     "name": "stdout",
     "output_type": "stream",
     "text": [
      "1\n",
      "8\n",
      "27\n",
      "64\n",
      "125\n",
      "216\n",
      "343\n",
      "512\n",
      "729\n",
      "1000\n",
      "The sum of total cube is 3025\n"
     ]
    }
   ],
   "source": [
    "i=1\n",
    "sum=0\n",
    "while i <=10:\n",
    "    cube=i**3\n",
    "    print(cube)\n",
    "    sum= sum + cube\n",
    "    i+=1\n",
    "print(\"The sum of total cube is\",sum)    \n",
    "    "
   ]
  },
  {
   "cell_type": "markdown",
   "id": "9ae7042d-f277-419d-80b6-1d8a8c327f04",
   "metadata": {},
   "source": [
    "**Find the sum of squares of first 15 natural numbers.**"
   ]
  },
  {
   "cell_type": "code",
   "execution_count": 5,
   "id": "0c9c42a9-de6a-466e-9458-cda8fb362c66",
   "metadata": {},
   "outputs": [
    {
     "name": "stdout",
     "output_type": "stream",
     "text": [
      "1\n",
      "4\n",
      "9\n",
      "16\n",
      "25\n",
      "36\n",
      "49\n",
      "64\n",
      "81\n",
      "100\n",
      "121\n",
      "144\n",
      "169\n",
      "196\n",
      "225\n",
      "The sum of square : 1240\n"
     ]
    }
   ],
   "source": [
    "i=1\n",
    "sum=0\n",
    "while i<=15:\n",
    "    square=i**2\n",
    "    print(square)\n",
    "    sum=sum + square\n",
    "    i+=1\n",
    "print(\"The sum of square :\",sum)    "
   ]
  },
  {
   "cell_type": "code",
   "execution_count": null,
   "id": "399ef88a-e42b-4762-8d9f-342f1a776b77",
   "metadata": {},
   "outputs": [],
   "source": []
  }
 ],
 "metadata": {
  "kernelspec": {
   "display_name": "Python [conda env:base] *",
   "language": "python",
   "name": "conda-base-py"
  },
  "language_info": {
   "codemirror_mode": {
    "name": "ipython",
    "version": 3
   },
   "file_extension": ".py",
   "mimetype": "text/x-python",
   "name": "python",
   "nbconvert_exporter": "python",
   "pygments_lexer": "ipython3",
   "version": "3.13.5"
  }
 },
 "nbformat": 4,
 "nbformat_minor": 5
}
